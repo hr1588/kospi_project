{
 "cells": [
  {
   "cell_type": "markdown",
   "id": "3a46a7f4",
   "metadata": {},
   "source": [
    "# 패키지 설치 및 데이터 인덱싱"
   ]
  },
  {
   "cell_type": "code",
   "execution_count": 32,
   "id": "f71cdb53",
   "metadata": {},
   "outputs": [],
   "source": [
    "import FinanceDataReader as fdr"
   ]
  },
  {
   "cell_type": "code",
   "execution_count": 33,
   "id": "71c3d496",
   "metadata": {},
   "outputs": [],
   "source": [
    "df = fdr.DataReader('KS11','2014','2022-05-09') # 2014년부터 오늘까지 코스피 데이터 추출"
   ]
  },
  {
   "cell_type": "code",
   "execution_count": 34,
   "id": "363bb5b1",
   "metadata": {},
   "outputs": [],
   "source": [
    "data = df['Close'] "
   ]
  },
  {
   "cell_type": "code",
   "execution_count": 35,
   "id": "64d362d7",
   "metadata": {},
   "outputs": [
    {
     "data": {
      "text/plain": [
       "0"
      ]
     },
     "execution_count": 35,
     "metadata": {},
     "output_type": "execute_result"
    }
   ],
   "source": [
    "data.isnull().sum()"
   ]
  },
  {
   "cell_type": "markdown",
   "id": "6a00cac1",
   "metadata": {},
   "source": [
    "# 자기상관분석"
   ]
  },
  {
   "cell_type": "code",
   "execution_count": 36,
   "id": "95c87d16",
   "metadata": {},
   "outputs": [],
   "source": [
    "import statsmodels.api as sm\n",
    "import pandas as pd\n",
    "import numpy as np"
   ]
  },
  {
   "cell_type": "code",
   "execution_count": 37,
   "id": "49ce879a",
   "metadata": {},
   "outputs": [],
   "source": [
    "auto = pd.DataFrame(data)"
   ]
  },
  {
   "cell_type": "code",
   "execution_count": 38,
   "id": "266e409d",
   "metadata": {},
   "outputs": [
    {
     "data": {
      "image/png": "[encoded data removed]",
      "text/plain": [
       "<Figure size 432x288 with 1 Axes>"
      ]
     },
     "execution_count": 38,
     "metadata": {},
     "output_type": "execute_result"
    },
    {
     "data": {
      "image/png": "[encoded data removed]",
      "text/plain": [
       "<Figure size 432x288 with 1 Axes>"
      ]
     },
     "metadata": {
      "needs_background": "light"
     },
     "output_type": "display_data"
    }
   ],
   "source": [
    "sm.graphics.tsa.plot_acf(auto['Close'],lags=20)"
   ]
  },
  {
   "cell_type": "code",
   "execution_count": 39,
   "id": "09738488",
   "metadata": {},
   "outputs": [],
   "source": [
    "auto = auto.rename(columns={'Close':'당일종가'})"
   ]
  },
  {
   "cell_type": "code",
   "execution_count": 40,
   "id": "519e36bb",
   "metadata": {},
   "outputs": [],
   "source": [
    "auto['전일종가'] = auto['당일종가'].shift()"
   ]
  },
  {
   "cell_type": "code",
   "execution_count": 41,
   "id": "06d60044",
   "metadata": {},
   "outputs": [
    {
     "data": {
      "text/html": [
       "<div>\n",
       "<style scoped>\n",
       "    .dataframe tbody tr th:only-of-type {\n",
       "        vertical-align: middle;\n",
       "    }\n",
       "\n",
       "    .dataframe tbody tr th {\n",
       "        vertical-align: top;\n",
       "    }\n",
       "\n",
       "    .dataframe thead th {\n",
       "        text-align: right;\n",
       "    }\n",
       "</style>\n",
       "<table border=\"1\" class=\"dataframe\">\n",
       "  <thead>\n",
       "    <tr style=\"text-align: right;\">\n",
       "      <th></th>\n",
       "      <th>당일종가</th>\n",
       "      <th>전일종가</th>\n",
       "    </tr>\n",
       "    <tr>\n",
       "      <th>Date</th>\n",
       "      <th></th>\n",
       "      <th></th>\n",
       "    </tr>\n",
       "  </thead>\n",
       "  <tbody>\n",
       "    <tr>\n",
       "      <th>2014-01-02</th>\n",
       "      <td>1967.19</td>\n",
       "      <td>NaN</td>\n",
       "    </tr>\n",
       "    <tr>\n",
       "      <th>2014-01-03</th>\n",
       "      <td>1946.14</td>\n",
       "      <td>1967.19</td>\n",
       "    </tr>\n",
       "    <tr>\n",
       "      <th>2014-01-06</th>\n",
       "      <td>1953.28</td>\n",
       "      <td>1946.14</td>\n",
       "    </tr>\n",
       "    <tr>\n",
       "      <th>2014-01-07</th>\n",
       "      <td>1959.44</td>\n",
       "      <td>1953.28</td>\n",
       "    </tr>\n",
       "    <tr>\n",
       "      <th>2014-01-08</th>\n",
       "      <td>1958.96</td>\n",
       "      <td>1959.44</td>\n",
       "    </tr>\n",
       "    <tr>\n",
       "      <th>...</th>\n",
       "      <td>...</td>\n",
       "      <td>...</td>\n",
       "    </tr>\n",
       "    <tr>\n",
       "      <th>2022-05-02</th>\n",
       "      <td>2687.45</td>\n",
       "      <td>2695.05</td>\n",
       "    </tr>\n",
       "    <tr>\n",
       "      <th>2022-05-03</th>\n",
       "      <td>2680.46</td>\n",
       "      <td>2687.45</td>\n",
       "    </tr>\n",
       "    <tr>\n",
       "      <th>2022-05-04</th>\n",
       "      <td>2677.57</td>\n",
       "      <td>2680.46</td>\n",
       "    </tr>\n",
       "    <tr>\n",
       "      <th>2022-05-06</th>\n",
       "      <td>2644.51</td>\n",
       "      <td>2677.57</td>\n",
       "    </tr>\n",
       "    <tr>\n",
       "      <th>2022-05-09</th>\n",
       "      <td>2610.81</td>\n",
       "      <td>2644.51</td>\n",
       "    </tr>\n",
       "  </tbody>\n",
       "</table>\n",
       "<p>2053 rows × 2 columns</p>\n",
       "</div>"
      ],
      "text/plain": [
       "               당일종가     전일종가\n",
       "Date                        \n",
       "2014-01-02  1967.19      NaN\n",
       "2014-01-03  1946.14  1967.19\n",
       "2014-01-06  1953.28  1946.14\n",
       "2014-01-07  1959.44  1953.28\n",
       "2014-01-08  1958.96  1959.44\n",
       "...             ...      ...\n",
       "2022-05-02  2687.45  2695.05\n",
       "2022-05-03  2680.46  2687.45\n",
       "2022-05-04  2677.57  2680.46\n",
       "2022-05-06  2644.51  2677.57\n",
       "2022-05-09  2610.81  2644.51\n",
       "\n",
       "[2053 rows x 2 columns]"
      ]
     },
     "execution_count": 41,
     "metadata": {},
     "output_type": "execute_result"
    }
   ],
   "source": [
    "auto"
   ]
  },
  {
   "cell_type": "code",
   "execution_count": 42,
   "id": "e9ce3abc",
   "metadata": {},
   "outputs": [],
   "source": [
    "auto['전일종가'][0] = 2011.34 # 결측치 제거를 위해 2013년 마지막 날 코스피 종가 데이터 입력"
   ]
  },
  {
   "cell_type": "markdown",
   "id": "bc18b26f",
   "metadata": {},
   "source": [
    "# log"
   ]
  },
  {
   "cell_type": "code",
   "execution_count": 43,
   "id": "fbf0287a",
   "metadata": {},
   "outputs": [],
   "source": [
    "auto['변동률'] = np.log(auto['당일종가']/auto['전일종가'])"
   ]
  },
  {
   "cell_type": "code",
   "execution_count": 44,
   "id": "1e4f82ef",
   "metadata": {},
   "outputs": [
    {
     "data": {
      "text/html": [
       "<div>\n",
       "<style scoped>\n",
       "    .dataframe tbody tr th:only-of-type {\n",
       "        vertical-align: middle;\n",
       "    }\n",
       "\n",
       "    .dataframe tbody tr th {\n",
       "        vertical-align: top;\n",
       "    }\n",
       "\n",
       "    .dataframe thead th {\n",
       "        text-align: right;\n",
       "    }\n",
       "</style>\n",
       "<table border=\"1\" class=\"dataframe\">\n",
       "  <thead>\n",
       "    <tr style=\"text-align: right;\">\n",
       "      <th></th>\n",
       "      <th>당일종가</th>\n",
       "      <th>전일종가</th>\n",
       "      <th>변동률</th>\n",
       "    </tr>\n",
       "    <tr>\n",
       "      <th>Date</th>\n",
       "      <th></th>\n",
       "      <th></th>\n",
       "      <th></th>\n",
       "    </tr>\n",
       "  </thead>\n",
       "  <tbody>\n",
       "    <tr>\n",
       "      <th>2014-01-02</th>\n",
       "      <td>1967.19</td>\n",
       "      <td>2011.34</td>\n",
       "      <td>-0.022195</td>\n",
       "    </tr>\n",
       "    <tr>\n",
       "      <th>2014-01-03</th>\n",
       "      <td>1946.14</td>\n",
       "      <td>1967.19</td>\n",
       "      <td>-0.010758</td>\n",
       "    </tr>\n",
       "    <tr>\n",
       "      <th>2014-01-06</th>\n",
       "      <td>1953.28</td>\n",
       "      <td>1946.14</td>\n",
       "      <td>0.003662</td>\n",
       "    </tr>\n",
       "    <tr>\n",
       "      <th>2014-01-07</th>\n",
       "      <td>1959.44</td>\n",
       "      <td>1953.28</td>\n",
       "      <td>0.003149</td>\n",
       "    </tr>\n",
       "    <tr>\n",
       "      <th>2014-01-08</th>\n",
       "      <td>1958.96</td>\n",
       "      <td>1959.44</td>\n",
       "      <td>-0.000245</td>\n",
       "    </tr>\n",
       "    <tr>\n",
       "      <th>...</th>\n",
       "      <td>...</td>\n",
       "      <td>...</td>\n",
       "      <td>...</td>\n",
       "    </tr>\n",
       "    <tr>\n",
       "      <th>2022-05-02</th>\n",
       "      <td>2687.45</td>\n",
       "      <td>2695.05</td>\n",
       "      <td>-0.002824</td>\n",
       "    </tr>\n",
       "    <tr>\n",
       "      <th>2022-05-03</th>\n",
       "      <td>2680.46</td>\n",
       "      <td>2687.45</td>\n",
       "      <td>-0.002604</td>\n",
       "    </tr>\n",
       "    <tr>\n",
       "      <th>2022-05-04</th>\n",
       "      <td>2677.57</td>\n",
       "      <td>2680.46</td>\n",
       "      <td>-0.001079</td>\n",
       "    </tr>\n",
       "    <tr>\n",
       "      <th>2022-05-06</th>\n",
       "      <td>2644.51</td>\n",
       "      <td>2677.57</td>\n",
       "      <td>-0.012424</td>\n",
       "    </tr>\n",
       "    <tr>\n",
       "      <th>2022-05-09</th>\n",
       "      <td>2610.81</td>\n",
       "      <td>2644.51</td>\n",
       "      <td>-0.012825</td>\n",
       "    </tr>\n",
       "  </tbody>\n",
       "</table>\n",
       "<p>2053 rows × 3 columns</p>\n",
       "</div>"
      ],
      "text/plain": [
       "               당일종가     전일종가       변동률\n",
       "Date                                  \n",
       "2014-01-02  1967.19  2011.34 -0.022195\n",
       "2014-01-03  1946.14  1967.19 -0.010758\n",
       "2014-01-06  1953.28  1946.14  0.003662\n",
       "2014-01-07  1959.44  1953.28  0.003149\n",
       "2014-01-08  1958.96  1959.44 -0.000245\n",
       "...             ...      ...       ...\n",
       "2022-05-02  2687.45  2695.05 -0.002824\n",
       "2022-05-03  2680.46  2687.45 -0.002604\n",
       "2022-05-04  2677.57  2680.46 -0.001079\n",
       "2022-05-06  2644.51  2677.57 -0.012424\n",
       "2022-05-09  2610.81  2644.51 -0.012825\n",
       "\n",
       "[2053 rows x 3 columns]"
      ]
     },
     "execution_count": 44,
     "metadata": {},
     "output_type": "execute_result"
    }
   ],
   "source": [
    "auto"
   ]
  },
  {
   "cell_type": "code",
   "execution_count": 45,
   "id": "4f7ac51c",
   "metadata": {},
   "outputs": [
    {
     "data": {
      "image/png": "[encoded data removed]",
      "text/plain": [
       "<Figure size 432x288 with 1 Axes>"
      ]
     },
     "execution_count": 45,
     "metadata": {},
     "output_type": "execute_result"
    },
    {
     "data": {
      "image/png": "[encoded data removed]",
      "text/plain": [
       "<Figure size 432x288 with 1 Axes>"
      ]
     },
     "metadata": {
      "needs_background": "light"
     },
     "output_type": "display_data"
    }
   ],
   "source": [
    "sm.graphics.tsa.plot_acf(auto['변동률'],lags=20, zero = False)"
   ]
  },
  {
   "cell_type": "markdown",
   "id": "74e6628b",
   "metadata": {},
   "source": [
    "# acf / pacf / 정상성 검정"
   ]
  },
  {
   "cell_type": "code",
   "execution_count": 46,
   "id": "5d890375",
   "metadata": {},
   "outputs": [],
   "source": [
    "from statsmodels.tsa.stattools import adfuller\n",
    "from statsmodels.graphics.tsaplots import plot_acf\n",
    "from statsmodels.graphics.tsaplots import plot_pacf"
   ]
  },
  {
   "cell_type": "code",
   "execution_count": 47,
   "id": "c8f17904",
   "metadata": {},
   "outputs": [
    {
     "data": {
      "image/png": "[encoded data removed]",
      "text/plain": [
       "<Figure size 432x288 with 1 Axes>"
      ]
     },
     "metadata": {
      "needs_background": "light"
     },
     "output_type": "display_data"
    }
   ],
   "source": [
    "fig1 = plot_acf(auto['변동률'], lags=20, zero=False)"
   ]
  },
  {
   "cell_type": "code",
   "execution_count": 48,
   "id": "84da4811",
   "metadata": {},
   "outputs": [
    {
     "data": {
      "image/png": "[encoded data removed]",
      "text/plain": [
       "<Figure size 432x288 with 1 Axes>"
      ]
     },
     "metadata": {
      "needs_background": "light"
     },
     "output_type": "display_data"
    }
   ],
   "source": [
    "fig2 = plot_pacf(auto['변동률'],lags=20, zero=False)"
   ]
  },
  {
   "cell_type": "code",
   "execution_count": 49,
   "id": "634a1604",
   "metadata": {},
   "outputs": [],
   "source": [
    "result = adfuller(auto['변동률'])"
   ]
  },
  {
   "cell_type": "code",
   "execution_count": 50,
   "id": "dac5b6f4",
   "metadata": {},
   "outputs": [
    {
     "name": "stdout",
     "output_type": "stream",
     "text": [
      "ADF Statistic : -9.41377970369951\n",
      "p-value : 5.741520912805788e-16\n"
     ]
    }
   ],
   "source": [
    "print('ADF Statistic : {}'.format(result[0]))\n",
    "print('p-value : {}'.format(result[1]))"
   ]
  },
  {
   "cell_type": "markdown",
   "id": "a970ed13",
   "metadata": {},
   "source": [
    "# ACF, PACF 그래프 확인"
   ]
  },
  {
   "cell_type": "code",
   "execution_count": 51,
   "id": "47e1e3fa",
   "metadata": {
    "scrolled": true
   },
   "outputs": [
    {
     "data": {
      "image/png": "[encoded data removed]",
      "text/plain": [
       "<Figure size 432x288 with 1 Axes>"
      ]
     },
     "metadata": {
      "needs_background": "light"
     },
     "output_type": "display_data"
    }
   ],
   "source": [
    "fig = plot_acf(auto['변동률'], lags=20, zero = False)"
   ]
  },
  {
   "cell_type": "code",
   "execution_count": 52,
   "id": "75266129",
   "metadata": {
    "scrolled": true
   },
   "outputs": [
    {
     "data": {
      "image/png": "[encoded data removed]",
      "text/plain": [
       "<Figure size 432x288 with 1 Axes>"
      ]
     },
     "metadata": {
      "needs_background": "light"
     },
     "output_type": "display_data"
    }
   ],
   "source": [
    "fig = plot_pacf(auto['변동률'],lags=20, zero = False)"
   ]
  },
  {
   "cell_type": "markdown",
   "id": "a1979ba9",
   "metadata": {},
   "source": [
    "ACF가 시차 0 이후에 0에 가까워지고, PACF도 시차 0 이후에 0에 가까워졌습니다.\n",
    "AR = ACF가 빠르게 감소, PACF는 어느 시점에서 절단점을 가짐\n",
    "MA = ACF가 절단점을 갖고, PACF는 빠르게 감소\n",
    "ARMA = 둘 다 감소\n",
    "\n",
    "log화를 했을 때 ACF와 PACF 모두 lag1에서 절단점을 가져서 AR MA를 판단하기가 어려워서, 최초 데이터로 1회 차분을 해보았습니다."
   ]
  },
  {
   "cell_type": "markdown",
   "id": "a8f77332",
   "metadata": {},
   "source": [
    "# 차분 ACF/PACF"
   ]
  },
  {
   "cell_type": "code",
   "execution_count": 53,
   "id": "34b89a2f",
   "metadata": {},
   "outputs": [],
   "source": [
    "df = fdr.DataReader('KS11','2014','2022-05-09') \n",
    "data = df['Close'] \n",
    "auto = pd.DataFrame(data)\n",
    "auto = auto.rename(columns={'Close':'당일종가'})\n",
    "auto['전일종가'] = auto['당일종가'].shift()\n",
    "auto['전일종가'][0] = 2011.34"
   ]
  },
  {
   "cell_type": "code",
   "execution_count": 54,
   "id": "91567529",
   "metadata": {},
   "outputs": [],
   "source": [
    "auto['변동률'] = (auto['당일종가']/auto['전일종가'])"
   ]
  },
  {
   "cell_type": "code",
   "execution_count": 55,
   "id": "4e36785a",
   "metadata": {},
   "outputs": [
    {
     "data": {
      "text/html": [
       "<div>\n",
       "<style scoped>\n",
       "    .dataframe tbody tr th:only-of-type {\n",
       "        vertical-align: middle;\n",
       "    }\n",
       "\n",
       "    .dataframe tbody tr th {\n",
       "        vertical-align: top;\n",
       "    }\n",
       "\n",
       "    .dataframe thead th {\n",
       "        text-align: right;\n",
       "    }\n",
       "</style>\n",
       "<table border=\"1\" class=\"dataframe\">\n",
       "  <thead>\n",
       "    <tr style=\"text-align: right;\">\n",
       "      <th></th>\n",
       "      <th>당일종가</th>\n",
       "      <th>전일종가</th>\n",
       "      <th>변동률</th>\n",
       "    </tr>\n",
       "    <tr>\n",
       "      <th>Date</th>\n",
       "      <th></th>\n",
       "      <th></th>\n",
       "      <th></th>\n",
       "    </tr>\n",
       "  </thead>\n",
       "  <tbody>\n",
       "    <tr>\n",
       "      <th>2014-01-02</th>\n",
       "      <td>1967.19</td>\n",
       "      <td>2011.34</td>\n",
       "      <td>0.978049</td>\n",
       "    </tr>\n",
       "    <tr>\n",
       "      <th>2014-01-03</th>\n",
       "      <td>1946.14</td>\n",
       "      <td>1967.19</td>\n",
       "      <td>0.989299</td>\n",
       "    </tr>\n",
       "    <tr>\n",
       "      <th>2014-01-06</th>\n",
       "      <td>1953.28</td>\n",
       "      <td>1946.14</td>\n",
       "      <td>1.003669</td>\n",
       "    </tr>\n",
       "    <tr>\n",
       "      <th>2014-01-07</th>\n",
       "      <td>1959.44</td>\n",
       "      <td>1953.28</td>\n",
       "      <td>1.003154</td>\n",
       "    </tr>\n",
       "    <tr>\n",
       "      <th>2014-01-08</th>\n",
       "      <td>1958.96</td>\n",
       "      <td>1959.44</td>\n",
       "      <td>0.999755</td>\n",
       "    </tr>\n",
       "    <tr>\n",
       "      <th>...</th>\n",
       "      <td>...</td>\n",
       "      <td>...</td>\n",
       "      <td>...</td>\n",
       "    </tr>\n",
       "    <tr>\n",
       "      <th>2022-05-02</th>\n",
       "      <td>2687.45</td>\n",
       "      <td>2695.05</td>\n",
       "      <td>0.997180</td>\n",
       "    </tr>\n",
       "    <tr>\n",
       "      <th>2022-05-03</th>\n",
       "      <td>2680.46</td>\n",
       "      <td>2687.45</td>\n",
       "      <td>0.997399</td>\n",
       "    </tr>\n",
       "    <tr>\n",
       "      <th>2022-05-04</th>\n",
       "      <td>2677.57</td>\n",
       "      <td>2680.46</td>\n",
       "      <td>0.998922</td>\n",
       "    </tr>\n",
       "    <tr>\n",
       "      <th>2022-05-06</th>\n",
       "      <td>2644.51</td>\n",
       "      <td>2677.57</td>\n",
       "      <td>0.987653</td>\n",
       "    </tr>\n",
       "    <tr>\n",
       "      <th>2022-05-09</th>\n",
       "      <td>2610.81</td>\n",
       "      <td>2644.51</td>\n",
       "      <td>0.987257</td>\n",
       "    </tr>\n",
       "  </tbody>\n",
       "</table>\n",
       "<p>2053 rows × 3 columns</p>\n",
       "</div>"
      ],
      "text/plain": [
       "               당일종가     전일종가       변동률\n",
       "Date                                  \n",
       "2014-01-02  1967.19  2011.34  0.978049\n",
       "2014-01-03  1946.14  1967.19  0.989299\n",
       "2014-01-06  1953.28  1946.14  1.003669\n",
       "2014-01-07  1959.44  1953.28  1.003154\n",
       "2014-01-08  1958.96  1959.44  0.999755\n",
       "...             ...      ...       ...\n",
       "2022-05-02  2687.45  2695.05  0.997180\n",
       "2022-05-03  2680.46  2687.45  0.997399\n",
       "2022-05-04  2677.57  2680.46  0.998922\n",
       "2022-05-06  2644.51  2677.57  0.987653\n",
       "2022-05-09  2610.81  2644.51  0.987257\n",
       "\n",
       "[2053 rows x 3 columns]"
      ]
     },
     "execution_count": 55,
     "metadata": {},
     "output_type": "execute_result"
    }
   ],
   "source": [
    "auto"
   ]
  },
  {
   "cell_type": "code",
   "execution_count": 56,
   "id": "b94879c9",
   "metadata": {},
   "outputs": [],
   "source": [
    "x = auto['변동률']"
   ]
  },
  {
   "cell_type": "code",
   "execution_count": 57,
   "id": "685bdfa1",
   "metadata": {},
   "outputs": [],
   "source": [
    "x = np.diff(x) # 차분"
   ]
  },
  {
   "cell_type": "code",
   "execution_count": 58,
   "id": "b7f7bca5",
   "metadata": {},
   "outputs": [
    {
     "data": {
      "image/png": "[encoded data removed]",
      "text/plain": [
       "<Figure size 432x288 with 1 Axes>"
      ]
     },
     "metadata": {
      "needs_background": "light"
     },
     "output_type": "display_data"
    }
   ],
   "source": [
    "fig = plot_acf(x, lags=20, zero = False)"
   ]
  },
  {
   "cell_type": "code",
   "execution_count": 59,
   "id": "c95819af",
   "metadata": {},
   "outputs": [
    {
     "data": {
      "image/png": "[encoded data removed]",
      "text/plain": [
       "<Figure size 432x288 with 1 Axes>"
      ]
     },
     "metadata": {
      "needs_background": "light"
     },
     "output_type": "display_data"
    }
   ],
   "source": [
    "fig = plot_pacf(x, lags = 20, zero = False)"
   ]
  },
  {
   "cell_type": "markdown",
   "id": "1c3b3751",
   "metadata": {},
   "source": [
    "1차 차분 결과로 ACF와 PACF를 그려본 결과 ACF는 시차 2 이후 0에 가까운 모습을 확인할 수 있으며, PACF는 점차 감소하여 0에 접근하는 모습을 \n",
    "확인할 수 있습니다. 즉 ACF는 lag 3에서 절단점을 가지고, pacf가 감소하기 때문에 변동률의 1차 차분 결과를 활용할 때는 MA(2)모델을 활용하는 것이 가장 높은 정확도를 보일 것이라고 추측할 수 있습니다."
   ]
  },
  {
   "cell_type": "code",
   "execution_count": 60,
   "id": "919dd0b4",
   "metadata": {},
   "outputs": [],
   "source": [
    "result = adfuller(x)"
   ]
  },
  {
   "cell_type": "code",
   "execution_count": 61,
   "id": "5458babf",
   "metadata": {},
   "outputs": [
    {
     "name": "stdout",
     "output_type": "stream",
     "text": [
      "ADF Statistic : -14.056921578030325\n",
      "p-value : 3.105417662001218e-26\n"
     ]
    }
   ],
   "source": [
    "print('ADF Statistic : {}'.format(result[0]))\n",
    "print('p-value : {}'.format(result[1]))"
   ]
  },
  {
   "cell_type": "markdown",
   "id": "9da282ca",
   "metadata": {},
   "source": [
    "# auto-arima"
   ]
  },
  {
   "cell_type": "code",
   "execution_count": 62,
   "id": "13402cb2",
   "metadata": {},
   "outputs": [],
   "source": [
    "# 데이터 준비"
   ]
  },
  {
   "cell_type": "code",
   "execution_count": 63,
   "id": "f085c004",
   "metadata": {},
   "outputs": [],
   "source": [
    "auto1 = auto"
   ]
  },
  {
   "cell_type": "code",
   "execution_count": 64,
   "id": "36c7dc30",
   "metadata": {
    "scrolled": true
   },
   "outputs": [
    {
     "name": "stderr",
     "output_type": "stream",
     "text": [
      "C:\\Users\\liked\\AppData\\Local\\Temp/ipykernel_19656/2432600452.py:1: UserWarning: Pandas doesn't allow columns to be created via a new attribute name - see https://pandas.pydata.org/pandas-docs/stable/indexing.html#attribute-access\n",
      "  df.arima = pd.DataFrame(auto1['변동률'])\n"
     ]
    }
   ],
   "source": [
    "df.arima = pd.DataFrame(auto1['변동률'])"
   ]
  },
  {
   "cell_type": "code",
   "execution_count": 65,
   "id": "372d983f",
   "metadata": {},
   "outputs": [],
   "source": [
    "df.arima['date'] = df.arima.index # 데이터 분할을 위해 인덱스 활용, 날짜 컬럼 생성"
   ]
  },
  {
   "cell_type": "code",
   "execution_count": 66,
   "id": "9a3498d1",
   "metadata": {},
   "outputs": [],
   "source": [
    "df.arima['변동률'] = pd.to_numeric(df.arima['변동률'])"
   ]
  },
  {
   "cell_type": "code",
   "execution_count": 67,
   "id": "bcf631b1",
   "metadata": {},
   "outputs": [],
   "source": [
    "# train 데이터와 validation 데이터 분할\n",
    "x_train = df.arima[df.arima['date'] < '2019-12-31']\n",
    "x_valid = df.arima[(df.arima['date'] >= '2020-01-01')]"
   ]
  },
  {
   "cell_type": "code",
   "execution_count": 68,
   "id": "803905a6",
   "metadata": {},
   "outputs": [],
   "source": [
    "alpha = x_train[['date','변동률']]\n",
    "alpha_v = x_valid[['date','변동률']]"
   ]
  },
  {
   "cell_type": "code",
   "execution_count": 69,
   "id": "b73f0ae3",
   "metadata": {},
   "outputs": [
    {
     "name": "stdout",
     "output_type": "stream",
     "text": [
      "(1472, 2)\n",
      "(581, 2)\n"
     ]
    }
   ],
   "source": [
    "print(x_train.shape)\n",
    "print(x_valid.shape)"
   ]
  },
  {
   "cell_type": "code",
   "execution_count": 70,
   "id": "6748104e",
   "metadata": {},
   "outputs": [],
   "source": [
    "# date를 데이터 프레임의 인덱스로 제작\n",
    "alpha.set_index('date', inplace = True)\n",
    "alpha_v.set_index('date', inplace = True)"
   ]
  },
  {
   "cell_type": "code",
   "execution_count": 71,
   "id": "3833fdc9",
   "metadata": {},
   "outputs": [],
   "source": [
    "import matplotlib.pyplot as plt\n",
    "import pmdarima as pm"
   ]
  },
  {
   "cell_type": "code",
   "execution_count": 72,
   "id": "6a03cb46",
   "metadata": {},
   "outputs": [
    {
     "name": "stdout",
     "output_type": "stream",
     "text": [
      "Performing stepwise search to minimize aic\n",
      " ARIMA(0,1,0)(0,0,0)[0] intercept   : AIC=-9207.872, Time=0.16 sec\n",
      " ARIMA(1,1,0)(0,0,0)[0] intercept   : AIC=-9649.358, Time=0.30 sec\n",
      " ARIMA(0,1,1)(0,0,0)[0] intercept   : AIC=-9998.059, Time=0.28 sec\n",
      " ARIMA(0,1,0)(0,0,0)[0]             : AIC=-9209.869, Time=0.09 sec\n",
      " ARIMA(1,1,1)(0,0,0)[0] intercept   : AIC=-10172.979, Time=1.52 sec\n",
      " ARIMA(2,1,1)(0,0,0)[0] intercept   : AIC=-10168.017, Time=1.29 sec\n",
      " ARIMA(1,1,2)(0,0,0)[0] intercept   : AIC=inf, Time=1.97 sec\n",
      " ARIMA(0,1,2)(0,0,0)[0] intercept   : AIC=-10062.750, Time=0.92 sec\n",
      " ARIMA(2,1,0)(0,0,0)[0] intercept   : AIC=-9798.816, Time=0.26 sec\n",
      " ARIMA(2,1,2)(0,0,0)[0] intercept   : AIC=-10161.479, Time=1.60 sec\n",
      " ARIMA(1,1,1)(0,0,0)[0]             : AIC=inf, Time=0.47 sec\n",
      "\n",
      "Best model:  ARIMA(1,1,1)(0,0,0)[0] intercept\n",
      "Total fit time: 8.874 seconds\n"
     ]
    }
   ],
   "source": [
    "model = pm.auto_arima(y=alpha,\n",
    "                     d = 1,\n",
    "                     start_p = 0,\n",
    "                     max_p = 3,\n",
    "                     start_q = 0,\n",
    "                     max_q = 3,\n",
    "                     m = 1,\n",
    "                     seasonal = False,\n",
    "                     stepwide = True,\n",
    "                     trace = True)"
   ]
  },
  {
   "cell_type": "markdown",
   "id": "469ae32a",
   "metadata": {},
   "source": [
    "y = 데이터\n",
    "d = 차분 차수\n",
    "start_p, max_p : AR(p)를 찾을 범위\n",
    "start_q, max_q : MA(q)를 찾을 범위\n",
    "m = 계절적 차분이 필요할 때 쓸 수 있는 모수(m=4면 분기별, m = 12면 월별, m=1이면 계절적 특징을 띄지 않는 데이터\n",
    "seasonal = 계절성 ARIMA 모형에 적합한지 여부\n",
    "stepwise = 최적의 모수를 찾기 위해 쓰는 힌드만-칸다카르 알고리즘을 사용할지 여부\n",
    "trace = stepwise로 모델을 적합할 때마다 결과를 프린트하고 싶을 때 사용\n"
   ]
  },
  {
   "cell_type": "markdown",
   "id": "0d7fd210",
   "metadata": {},
   "source": [
    "# 잔차 검정"
   ]
  },
  {
   "cell_type": "code",
   "execution_count": 73,
   "id": "896fb276",
   "metadata": {},
   "outputs": [
    {
     "name": "stdout",
     "output_type": "stream",
     "text": [
      "                               SARIMAX Results                                \n",
      "==============================================================================\n",
      "Dep. Variable:                      y   No. Observations:                 1472\n",
      "Model:               SARIMAX(1, 1, 1)   Log Likelihood                5090.489\n",
      "Date:                Thu, 26 May 2022   AIC                         -10172.979\n",
      "Time:                        16:33:01   BIC                         -10151.804\n",
      "Sample:                             0   HQIC                        -10165.083\n",
      "                               - 1472                                         \n",
      "Covariance Type:                  opg                                         \n",
      "==============================================================================\n",
      "                 coef    std err          z      P>|z|      [0.025      0.975]\n",
      "------------------------------------------------------------------------------\n",
      "intercept  -1.691e-06   2.39e-06     -0.707      0.480   -6.38e-06       3e-06\n",
      "ar.L1          0.0081      0.025      0.323      0.747      -0.041       0.057\n",
      "ma.L1         -0.9886      0.006   -175.533      0.000      -1.000      -0.978\n",
      "sigma2      5.699e-05   1.51e-06     37.777      0.000     5.4e-05       6e-05\n",
      "===================================================================================\n",
      "Ljung-Box (L1) (Q):                   0.20   Jarque-Bera (JB):               319.87\n",
      "Prob(Q):                              0.65   Prob(JB):                         0.00\n",
      "Heteroskedasticity (H):               1.37   Skew:                            -0.38\n",
      "Prob(H) (two-sided):                  0.00   Kurtosis:                         5.16\n",
      "===================================================================================\n",
      "\n",
      "Warnings:\n",
      "[1] Covariance matrix calculated using the outer product of gradients (complex-step).\n"
     ]
    }
   ],
   "source": [
    "print(model.summary())"
   ]
  },
  {
   "cell_type": "markdown",
   "id": "11e9aab9",
   "metadata": {},
   "source": [
    "Ljung-Box(융-박스 검정 통계량) : 잔차가 백색잡음인지 검정한 통계량, 많은 자기 상관 계수들이 동시에 0과 같은 값을 가진다는 귀무가설을 시험\n",
    "Jarque-Bera(자크-베라 검정 통계량) : 잔차가 정규성을 띠는지 검정한 통계량, 왜도와 첨도가 정규분포로 보기에 적합한지에 대한 적합도 검정\n",
    "Heteroskedasticity(이분산성 검정) : 오차항의 분산은 모든 관찰치에서 일정할 것\n",
    "skew : 비대칭도\n",
    "Kurtosis : 첨도\n",
    "백색잡음 : 아무런 패턴이 남아있지 않은 무작위한 진동, 추세나 계절성이 남아있다면 백색잡음과는 멀어지고, 이를 검증하는 것이 잔차진단입니다.\n",
    "백색잡음은 잔차률이 정규분포이고, 평균 0과 일정한 분산을 가져야하며, 시간의 흐름에 따라 상관성이 없어야 합니다.\n",
    "즉, 잔차가 백색잡음 과정이면 정상성을 만족한다고 볼 수 있습니다.\n",
    "잔차(residual)는 표본(sample)으로 추정한 회귀식과 실제 관측값의 차이를 말합니다.\n",
    "\n",
    "현재 모델은 prob(Q)값을 보면 잔차가 백색잡음 시계열을 따르므로, 시계열 모형이 잘 적합되었고 남은 잔차는 더이상 자기상관을 가지지 않는 백색 잡음 임을 확인할 수 있습니다. prob(JB)는 0이므로 잔차가 정규성을 따르지 않음을 확인할 수 있습니다.\n"
   ]
  },
  {
   "cell_type": "code",
   "execution_count": 74,
   "id": "89425ff2",
   "metadata": {
    "scrolled": false
   },
   "outputs": [
    {
     "name": "stderr",
     "output_type": "stream",
     "text": [
      "C:\\ProgramData\\Anaconda3\\lib\\site-packages\\statsmodels\\graphics\\gofplots.py:993: UserWarning: marker is redundantly defined by the 'marker' keyword argument and the fmt string \"bo\" (-> marker='o'). The keyword argument will take precedence.\n",
      "  ax.plot(x, y, fmt, **plot_style)\n"
     ]
    },
    {
     "data": {
      "image/png": "[encoded data removed]",
      "text/plain": [
       "<Figure size 1152x576 with 4 Axes>"
      ]
     },
     "metadata": {
      "needs_background": "light"
     },
     "output_type": "display_data"
    }
   ],
   "source": [
    "model.plot_diagnostics(figsize = (16,8))\n",
    "plt.show()"
   ]
  },
  {
   "cell_type": "markdown",
   "id": "a7ab6837",
   "metadata": {},
   "source": [
    "Standardized residual - 잔차를 시계열로 그린 것, 백색 잡음일시 평균이 0을 중심으로 무작위하게 움직입니다.\n",
    "Correlogram - 잔차에 대한 ACF 그래프\n",
    "\n",
    "Histogram plus estimated density -  잔차의 히스토그램을 그려 정규 분포 N(0,1)과 밀도를 추정한 그래프를 같이 겹쳐서 보여주며, 비대칭도와 첨도에서 확인한 것처럼 정규분포와 비슷하게 대칭적이지만, 첨도가 더 뾰족하게 솟아오른 것을 알 수 있습니다.\n",
    "\n",
    "Normal Q-Q - Q-Q 플랏으로 정규성을 만족한다면 빨간 일직선 위에 점들이 분포해야 한다. 현재 그림에서는 양 끝쪽에서 빨간 선을 벗어나는 형태를 보이고 있습니다.\n",
    "\n",
    "적합한 ARIMA(1,1,1)로 남은 잔차는 백색 잡음이지만, 정규성은 따르지 않는다고 볼 수 있습니다."
   ]
  },
  {
   "cell_type": "markdown",
   "id": "5d472b7a",
   "metadata": {},
   "source": [
    "# 모형 예측"
   ]
  },
  {
   "cell_type": "code",
   "execution_count": 75,
   "id": "14eaa9fb",
   "metadata": {},
   "outputs": [],
   "source": [
    "alpha_p = model.predict(n_periods = len(alpha_v))"
   ]
  },
  {
   "cell_type": "code",
   "execution_count": 76,
   "id": "3ab25e19",
   "metadata": {},
   "outputs": [],
   "source": [
    "alpha_p = pd.DataFrame(alpha_p,index=alpha_v.index, columns=['Prediction'])"
   ]
  },
  {
   "cell_type": "code",
   "execution_count": 77,
   "id": "3c28834e",
   "metadata": {},
   "outputs": [],
   "source": [
    "alpha_p.columns = {'change'}"
   ]
  },
  {
   "cell_type": "code",
   "execution_count": 78,
   "id": "c8460dc5",
   "metadata": {},
   "outputs": [
    {
     "data": {
      "text/html": [
       "<div>\n",
       "<style scoped>\n",
       "    .dataframe tbody tr th:only-of-type {\n",
       "        vertical-align: middle;\n",
       "    }\n",
       "\n",
       "    .dataframe tbody tr th {\n",
       "        vertical-align: top;\n",
       "    }\n",
       "\n",
       "    .dataframe thead th {\n",
       "        text-align: right;\n",
       "    }\n",
       "</style>\n",
       "<table border=\"1\" class=\"dataframe\">\n",
       "  <thead>\n",
       "    <tr style=\"text-align: right;\">\n",
       "      <th></th>\n",
       "      <th>change</th>\n",
       "    </tr>\n",
       "    <tr>\n",
       "      <th>date</th>\n",
       "      <th></th>\n",
       "    </tr>\n",
       "  </thead>\n",
       "  <tbody>\n",
       "    <tr>\n",
       "      <th>2020-01-02</th>\n",
       "      <td>1.000359</td>\n",
       "    </tr>\n",
       "    <tr>\n",
       "      <th>2020-01-03</th>\n",
       "      <td>1.000384</td>\n",
       "    </tr>\n",
       "    <tr>\n",
       "      <th>2020-01-06</th>\n",
       "      <td>1.000383</td>\n",
       "    </tr>\n",
       "    <tr>\n",
       "      <th>2020-01-07</th>\n",
       "      <td>1.000381</td>\n",
       "    </tr>\n",
       "    <tr>\n",
       "      <th>2020-01-08</th>\n",
       "      <td>1.000379</td>\n",
       "    </tr>\n",
       "    <tr>\n",
       "      <th>...</th>\n",
       "      <td>...</td>\n",
       "    </tr>\n",
       "    <tr>\n",
       "      <th>2022-05-02</th>\n",
       "      <td>0.999404</td>\n",
       "    </tr>\n",
       "    <tr>\n",
       "      <th>2022-05-03</th>\n",
       "      <td>0.999402</td>\n",
       "    </tr>\n",
       "    <tr>\n",
       "      <th>2022-05-04</th>\n",
       "      <td>0.999401</td>\n",
       "    </tr>\n",
       "    <tr>\n",
       "      <th>2022-05-06</th>\n",
       "      <td>0.999399</td>\n",
       "    </tr>\n",
       "    <tr>\n",
       "      <th>2022-05-09</th>\n",
       "      <td>0.999397</td>\n",
       "    </tr>\n",
       "  </tbody>\n",
       "</table>\n",
       "<p>581 rows × 1 columns</p>\n",
       "</div>"
      ],
      "text/plain": [
       "              change\n",
       "date                \n",
       "2020-01-02  1.000359\n",
       "2020-01-03  1.000384\n",
       "2020-01-06  1.000383\n",
       "2020-01-07  1.000381\n",
       "2020-01-08  1.000379\n",
       "...              ...\n",
       "2022-05-02  0.999404\n",
       "2022-05-03  0.999402\n",
       "2022-05-04  0.999401\n",
       "2022-05-06  0.999399\n",
       "2022-05-09  0.999397\n",
       "\n",
       "[581 rows x 1 columns]"
      ]
     },
     "execution_count": 78,
     "metadata": {},
     "output_type": "execute_result"
    }
   ],
   "source": [
    "alpha_p"
   ]
  },
  {
   "cell_type": "markdown",
   "id": "ccae6cce",
   "metadata": {},
   "source": [
    "# 모형 재검정"
   ]
  },
  {
   "cell_type": "code",
   "execution_count": 79,
   "id": "b52c3486",
   "metadata": {},
   "outputs": [
    {
     "name": "stdout",
     "output_type": "stream",
     "text": [
      "                               SARIMAX Results                                \n",
      "==============================================================================\n",
      "Dep. Variable:                      y   No. Observations:                 1472\n",
      "Model:               SARIMAX(1, 1, 1)   Log Likelihood                5090.489\n",
      "Date:                Thu, 26 May 2022   AIC                         -10172.979\n",
      "Time:                        16:33:02   BIC                         -10151.804\n",
      "Sample:                             0   HQIC                        -10165.083\n",
      "                               - 1472                                         \n",
      "Covariance Type:                  opg                                         \n",
      "==============================================================================\n",
      "                 coef    std err          z      P>|z|      [0.025      0.975]\n",
      "------------------------------------------------------------------------------\n",
      "intercept  -1.691e-06   2.39e-06     -0.707      0.480   -6.38e-06       3e-06\n",
      "ar.L1          0.0081      0.025      0.323      0.747      -0.041       0.057\n",
      "ma.L1         -0.9886      0.006   -175.533      0.000      -1.000      -0.978\n",
      "sigma2      5.699e-05   1.51e-06     37.777      0.000     5.4e-05       6e-05\n",
      "===================================================================================\n",
      "Ljung-Box (L1) (Q):                   0.20   Jarque-Bera (JB):               319.87\n",
      "Prob(Q):                              0.65   Prob(JB):                         0.00\n",
      "Heteroskedasticity (H):               1.37   Skew:                            -0.38\n",
      "Prob(H) (two-sided):                  0.00   Kurtosis:                         5.16\n",
      "===================================================================================\n",
      "\n",
      "Warnings:\n",
      "[1] Covariance matrix calculated using the outer product of gradients (complex-step).\n"
     ]
    }
   ],
   "source": [
    "print(model.summary())"
   ]
  },
  {
   "cell_type": "markdown",
   "id": "84b5d472",
   "metadata": {},
   "source": [
    "- 백색 잡음 : 아무런 패턴이 남아있지 않은 무작위한 진동\n",
    "- 추세나 계절성이 남아있다면 백색잡음과는 멀어짐, 이를 검증하는 것이 잔차진단\n",
    "- Ljung Box Test의 귀무가설은 잔차들이 백색 잡음이란 것이며, p-value가 0.05 미만일 경우 이를 기각합니다.\n",
    "- 즉 ARIMA(1,1,1) 모형의 Ljung box test p-value는 0.65로, 귀무가설을 기각하지 못하기 때문에 잔차가 백색 잡음을 따름을 나타냅니다.\n",
    "- https://direction-f.tistory.com/69 (LB)\n",
    "- Jarque-Bera Test의 귀무가설은 '잔차는 정규분포를 한다'이고, p-value가 0.05 미만일 경우 이를 기각합니다.\n",
    "- ARIMA(1,1,1) 모형의 Jarque-Bera Test p-value는 0.00으로, 귀무가설을 기각하기 때문에 잔차는 정규성을 따른다고 볼 수 없습니다.\n",
    "- 탐색 결과, 저번주와 동일한 결과를 확인할 수 있었습니다.\n",
    "- ARIMA(1,1,1)모형의 남은 잔차는 백색 잡음이지만, 정규성은 따르지 않는다고 볼 수 있습니다."
   ]
  },
  {
   "cell_type": "markdown",
   "id": "a8773cd3",
   "metadata": {},
   "source": [
    "# 예측 모형 새로 제작"
   ]
  },
  {
   "cell_type": "code",
   "execution_count": 80,
   "id": "ddadb1f5",
   "metadata": {},
   "outputs": [
    {
     "data": {
      "text/html": [
       "<div>\n",
       "<style scoped>\n",
       "    .dataframe tbody tr th:only-of-type {\n",
       "        vertical-align: middle;\n",
       "    }\n",
       "\n",
       "    .dataframe tbody tr th {\n",
       "        vertical-align: top;\n",
       "    }\n",
       "\n",
       "    .dataframe thead th {\n",
       "        text-align: right;\n",
       "    }\n",
       "</style>\n",
       "<table border=\"1\" class=\"dataframe\">\n",
       "  <thead>\n",
       "    <tr style=\"text-align: right;\">\n",
       "      <th></th>\n",
       "      <th>당일종가</th>\n",
       "      <th>전일종가</th>\n",
       "      <th>변동률</th>\n",
       "    </tr>\n",
       "    <tr>\n",
       "      <th>Date</th>\n",
       "      <th></th>\n",
       "      <th></th>\n",
       "      <th></th>\n",
       "    </tr>\n",
       "  </thead>\n",
       "  <tbody>\n",
       "    <tr>\n",
       "      <th>2014-01-02</th>\n",
       "      <td>1967.19</td>\n",
       "      <td>2011.34</td>\n",
       "      <td>0.978049</td>\n",
       "    </tr>\n",
       "    <tr>\n",
       "      <th>2014-01-03</th>\n",
       "      <td>1946.14</td>\n",
       "      <td>1967.19</td>\n",
       "      <td>0.989299</td>\n",
       "    </tr>\n",
       "    <tr>\n",
       "      <th>2014-01-06</th>\n",
       "      <td>1953.28</td>\n",
       "      <td>1946.14</td>\n",
       "      <td>1.003669</td>\n",
       "    </tr>\n",
       "    <tr>\n",
       "      <th>2014-01-07</th>\n",
       "      <td>1959.44</td>\n",
       "      <td>1953.28</td>\n",
       "      <td>1.003154</td>\n",
       "    </tr>\n",
       "    <tr>\n",
       "      <th>2014-01-08</th>\n",
       "      <td>1958.96</td>\n",
       "      <td>1959.44</td>\n",
       "      <td>0.999755</td>\n",
       "    </tr>\n",
       "    <tr>\n",
       "      <th>...</th>\n",
       "      <td>...</td>\n",
       "      <td>...</td>\n",
       "      <td>...</td>\n",
       "    </tr>\n",
       "    <tr>\n",
       "      <th>2022-05-02</th>\n",
       "      <td>2687.45</td>\n",
       "      <td>2695.05</td>\n",
       "      <td>0.997180</td>\n",
       "    </tr>\n",
       "    <tr>\n",
       "      <th>2022-05-03</th>\n",
       "      <td>2680.46</td>\n",
       "      <td>2687.45</td>\n",
       "      <td>0.997399</td>\n",
       "    </tr>\n",
       "    <tr>\n",
       "      <th>2022-05-04</th>\n",
       "      <td>2677.57</td>\n",
       "      <td>2680.46</td>\n",
       "      <td>0.998922</td>\n",
       "    </tr>\n",
       "    <tr>\n",
       "      <th>2022-05-06</th>\n",
       "      <td>2644.51</td>\n",
       "      <td>2677.57</td>\n",
       "      <td>0.987653</td>\n",
       "    </tr>\n",
       "    <tr>\n",
       "      <th>2022-05-09</th>\n",
       "      <td>2610.81</td>\n",
       "      <td>2644.51</td>\n",
       "      <td>0.987257</td>\n",
       "    </tr>\n",
       "  </tbody>\n",
       "</table>\n",
       "<p>2053 rows × 3 columns</p>\n",
       "</div>"
      ],
      "text/plain": [
       "               당일종가     전일종가       변동률\n",
       "Date                                  \n",
       "2014-01-02  1967.19  2011.34  0.978049\n",
       "2014-01-03  1946.14  1967.19  0.989299\n",
       "2014-01-06  1953.28  1946.14  1.003669\n",
       "2014-01-07  1959.44  1953.28  1.003154\n",
       "2014-01-08  1958.96  1959.44  0.999755\n",
       "...             ...      ...       ...\n",
       "2022-05-02  2687.45  2695.05  0.997180\n",
       "2022-05-03  2680.46  2687.45  0.997399\n",
       "2022-05-04  2677.57  2680.46  0.998922\n",
       "2022-05-06  2644.51  2677.57  0.987653\n",
       "2022-05-09  2610.81  2644.51  0.987257\n",
       "\n",
       "[2053 rows x 3 columns]"
      ]
     },
     "execution_count": 80,
     "metadata": {},
     "output_type": "execute_result"
    }
   ],
   "source": [
    "auto"
   ]
  },
  {
   "cell_type": "code",
   "execution_count": 81,
   "id": "feac3a11",
   "metadata": {
    "scrolled": true
   },
   "outputs": [],
   "source": [
    "beta = auto[['변동률']]"
   ]
  },
  {
   "cell_type": "code",
   "execution_count": 82,
   "id": "6a0ed42a",
   "metadata": {},
   "outputs": [],
   "source": [
    "beta = beta.reset_index(inplace=False,drop=True) "
   ]
  },
  {
   "cell_type": "code",
   "execution_count": 83,
   "id": "08297bf1",
   "metadata": {
    "scrolled": true
   },
   "outputs": [],
   "source": [
    "beta.columns = {'change'}"
   ]
  },
  {
   "cell_type": "code",
   "execution_count": 84,
   "id": "740d43f6",
   "metadata": {},
   "outputs": [
    {
     "data": {
      "image/png": "[encoded data removed]",
      "text/plain": [
       "<Figure size 432x288 with 1 Axes>"
      ]
     },
     "metadata": {
      "needs_background": "light"
     },
     "output_type": "display_data"
    }
   ],
   "source": [
    "beta.plot()\n",
    "plt.show()"
   ]
  },
  {
   "cell_type": "code",
   "execution_count": 85,
   "id": "ed23dbf4",
   "metadata": {},
   "outputs": [],
   "source": [
    "from statsmodels.tsa.arima_model import ARIMA\n",
    "import statsmodels.api as sm\n",
    "import warnings\n",
    "warnings.filterwarnings(\"ignore\")"
   ]
  },
  {
   "cell_type": "code",
   "execution_count": 86,
   "id": "3fc0aac2",
   "metadata": {},
   "outputs": [
    {
     "name": "stdout",
     "output_type": "stream",
     "text": [
      "                             ARIMA Model Results                              \n",
      "==============================================================================\n",
      "Dep. Variable:                    D.y   No. Observations:                 2052\n",
      "Model:                 ARIMA(1, 1, 1)   Log Likelihood                6552.300\n",
      "Method:                       css-mle   S.D. of innovations              0.010\n",
      "Date:                Thu, 26 May 2022   AIC                         -13096.600\n",
      "Time:                        16:33:02   BIC                         -13074.094\n",
      "Sample:                             1   HQIC                        -13088.347\n",
      "                                                                              \n",
      "==============================================================================\n",
      "                 coef    std err          z      P>|z|      [0.025      0.975]\n",
      "------------------------------------------------------------------------------\n",
      "const      -2.947e-07   5.42e-06     -0.054      0.957   -1.09e-05    1.03e-05\n",
      "ar.L1.D.y      0.0074      0.017      0.444      0.657      -0.025       0.040\n",
      "ma.L1.D.y     -0.9759        nan        nan        nan         nan         nan\n",
      "                                    Roots                                    \n",
      "=============================================================================\n",
      "                  Real          Imaginary           Modulus         Frequency\n",
      "-----------------------------------------------------------------------------\n",
      "AR.1          134.6145           +0.0000j          134.6145            0.0000\n",
      "MA.1            1.0247           +0.0000j            1.0247            0.0000\n",
      "-----------------------------------------------------------------------------\n"
     ]
    }
   ],
   "source": [
    "model = ARIMA(beta.change.values, order = (1,1,1))\n",
    "model_fit = model.fit(trend = 'c', full_output = True, disp = 1)\n",
    "print(model_fit.summary())"
   ]
  },
  {
   "cell_type": "code",
   "execution_count": 87,
   "id": "638eb14a",
   "metadata": {},
   "outputs": [
    {
     "name": "stdout",
     "output_type": "stream",
     "text": [
      "                             ARIMA Model Results                              \n",
      "==============================================================================\n",
      "Dep. Variable:                    D.y   No. Observations:                 2052\n",
      "Model:                 ARIMA(1, 1, 1)   Log Likelihood                6561.418\n",
      "Method:                       css-mle   S.D. of innovations              0.010\n",
      "Date:                Thu, 26 May 2022   AIC                         -13116.836\n",
      "Time:                        16:33:03   BIC                         -13099.957\n",
      "Sample:                             1   HQIC                        -13110.646\n",
      "                                                                              \n",
      "==============================================================================\n",
      "                 coef    std err          z      P>|z|      [0.025      0.975]\n",
      "------------------------------------------------------------------------------\n",
      "ar.L1.D.y     -0.0018      0.022     -0.082      0.934      -0.045       0.042\n",
      "ma.L1.D.y     -0.9999      0.002   -616.628      0.000      -1.003      -0.997\n",
      "                                    Roots                                    \n",
      "=============================================================================\n",
      "                  Real          Imaginary           Modulus         Frequency\n",
      "-----------------------------------------------------------------------------\n",
      "AR.1         -549.4778           +0.0000j          549.4778            0.5000\n",
      "MA.1            1.0001           +0.0000j            1.0001            0.0000\n",
      "-----------------------------------------------------------------------------\n"
     ]
    }
   ],
   "source": [
    "model = ARIMA(beta.change.values, order = (1,1,1))\n",
    "model_fit = model.fit(trend = 'nc', full_output = True, disp = 1)\n",
    "print(model_fit.summary())"
   ]
  },
  {
   "cell_type": "code",
   "execution_count": 88,
   "id": "aff0b67a",
   "metadata": {},
   "outputs": [
    {
     "data": {
      "image/png": "[encoded data removed]",
      "text/plain": [
       "<Figure size 432x288 with 1 Axes>"
      ]
     },
     "metadata": {
      "needs_background": "light"
     },
     "output_type": "display_data"
    }
   ],
   "source": [
    "fig = model_fit.plot_predict()"
   ]
  },
  {
   "cell_type": "code",
   "execution_count": 89,
   "id": "e8687d08",
   "metadata": {},
   "outputs": [
    {
     "name": "stdout",
     "output_type": "stream",
     "text": [
      "                              ARMA Model Results                              \n",
      "==============================================================================\n",
      "Dep. Variable:                      y   No. Observations:                 2053\n",
      "Model:                     ARMA(0, 2)   Log Likelihood                -296.944\n",
      "Method:                       css-mle   S.D. of innovations              0.279\n",
      "Date:                Thu, 26 May 2022   AIC                            599.887\n",
      "Time:                        16:33:03   BIC                            616.768\n",
      "Sample:                             0   HQIC                           606.077\n",
      "                                                                              \n",
      "==============================================================================\n",
      "                 coef    std err          z      P>|z|      [0.025      0.975]\n",
      "------------------------------------------------------------------------------\n",
      "ma.L1.y        1.7900      0.006    280.512      0.000       1.777       1.802\n",
      "ma.L2.y        0.9390      0.006    144.891      0.000       0.926       0.952\n",
      "                                    Roots                                    \n",
      "=============================================================================\n",
      "                  Real          Imaginary           Modulus         Frequency\n",
      "-----------------------------------------------------------------------------\n",
      "MA.1           -0.9531           -0.3956j            1.0320           -0.4374\n",
      "MA.2           -0.9531           +0.3956j            1.0320            0.4374\n",
      "-----------------------------------------------------------------------------\n"
     ]
    }
   ],
   "source": [
    "model = ARIMA(beta.change.values, order = (0,0,2))\n",
    "model_fit = model.fit(trend = 'nc', full_output = True, disp = True)\n",
    "print(model_fit.summary())"
   ]
  },
  {
   "cell_type": "code",
   "execution_count": 90,
   "id": "2a26bc63",
   "metadata": {},
   "outputs": [
    {
     "name": "stdout",
     "output_type": "stream",
     "text": [
      "                              ARMA Model Results                              \n",
      "==============================================================================\n",
      "Dep. Variable:                      y   No. Observations:                 2053\n",
      "Model:                     ARMA(0, 2)   Log Likelihood                -296.944\n",
      "Method:                       css-mle   S.D. of innovations              0.279\n",
      "Date:                Thu, 26 May 2022   AIC                            599.887\n",
      "Time:                        16:33:03   BIC                            616.768\n",
      "Sample:                             0   HQIC                           606.077\n",
      "                                                                              \n",
      "==============================================================================\n",
      "                 coef    std err          z      P>|z|      [0.025      0.975]\n",
      "------------------------------------------------------------------------------\n",
      "ma.L1.y        1.7900      0.006    280.512      0.000       1.777       1.802\n",
      "ma.L2.y        0.9390      0.006    144.891      0.000       0.926       0.952\n",
      "                                    Roots                                    \n",
      "=============================================================================\n",
      "                  Real          Imaginary           Modulus         Frequency\n",
      "-----------------------------------------------------------------------------\n",
      "MA.1           -0.9531           -0.3956j            1.0320           -0.4374\n",
      "MA.2           -0.9531           +0.3956j            1.0320            0.4374\n",
      "-----------------------------------------------------------------------------\n"
     ]
    }
   ],
   "source": [
    "model = ARIMA(beta.change.values, order = (0,0,2))\n",
    "model_fit = model.fit(trend = 'nc', full_output = True, disp = 1)\n",
    "print(model_fit.summary())"
   ]
  },
  {
   "cell_type": "code",
   "execution_count": 91,
   "id": "0941941c",
   "metadata": {},
   "outputs": [
    {
     "data": {
      "image/png": "[encoded data removed]",
      "text/plain": [
       "<Figure size 432x288 with 1 Axes>"
      ]
     },
     "metadata": {
      "needs_background": "light"
     },
     "output_type": "display_data"
    }
   ],
   "source": [
    "fig = model_fit.plot_predict()"
   ]
  },
  {
   "cell_type": "markdown",
   "id": "327504cb",
   "metadata": {},
   "source": [
    "# 테스트 데이터 생성"
   ]
  },
  {
   "cell_type": "code",
   "execution_count": 92,
   "id": "0134ba70",
   "metadata": {},
   "outputs": [],
   "source": [
    "df1 = fdr.DataReader('KS11','2022-05-10','2022-05-17')"
   ]
  },
  {
   "cell_type": "code",
   "execution_count": 93,
   "id": "3320957b",
   "metadata": {},
   "outputs": [],
   "source": [
    "test = df1[['Close']]"
   ]
  },
  {
   "cell_type": "code",
   "execution_count": 94,
   "id": "f5598988",
   "metadata": {},
   "outputs": [],
   "source": [
    "test = test.rename(columns={'Close':'당일종가'})\n",
    "test['전일종가'] = test['당일종가'].shift()"
   ]
  },
  {
   "cell_type": "code",
   "execution_count": 95,
   "id": "ad77a2c1",
   "metadata": {},
   "outputs": [],
   "source": [
    "test['전일종가'][0] = 2610.81"
   ]
  },
  {
   "cell_type": "code",
   "execution_count": 96,
   "id": "b4738b05",
   "metadata": {},
   "outputs": [],
   "source": [
    "test['change'] = (test['당일종가']/test['전일종가'])"
   ]
  },
  {
   "cell_type": "code",
   "execution_count": 97,
   "id": "754a7a6d",
   "metadata": {},
   "outputs": [],
   "source": [
    "test = test[['change']]"
   ]
  },
  {
   "cell_type": "code",
   "execution_count": 98,
   "id": "2921a3a6",
   "metadata": {},
   "outputs": [],
   "source": [
    "test['date'] = test.index"
   ]
  },
  {
   "cell_type": "code",
   "execution_count": 99,
   "id": "6d36494f",
   "metadata": {},
   "outputs": [],
   "source": [
    "test['date'] = pd.to_datetime(test['date'])"
   ]
  },
  {
   "cell_type": "code",
   "execution_count": 100,
   "id": "01ea15a8",
   "metadata": {},
   "outputs": [],
   "source": [
    "test.set_index('date',inplace = True)"
   ]
  },
  {
   "cell_type": "code",
   "execution_count": 101,
   "id": "6209856a",
   "metadata": {},
   "outputs": [
    {
     "data": {
      "text/html": [
       "<div>\n",
       "<style scoped>\n",
       "    .dataframe tbody tr th:only-of-type {\n",
       "        vertical-align: middle;\n",
       "    }\n",
       "\n",
       "    .dataframe tbody tr th {\n",
       "        vertical-align: top;\n",
       "    }\n",
       "\n",
       "    .dataframe thead th {\n",
       "        text-align: right;\n",
       "    }\n",
       "</style>\n",
       "<table border=\"1\" class=\"dataframe\">\n",
       "  <thead>\n",
       "    <tr style=\"text-align: right;\">\n",
       "      <th></th>\n",
       "      <th>change</th>\n",
       "    </tr>\n",
       "    <tr>\n",
       "      <th>date</th>\n",
       "      <th></th>\n",
       "    </tr>\n",
       "  </thead>\n",
       "  <tbody>\n",
       "    <tr>\n",
       "      <th>2022-05-10</th>\n",
       "      <td>0.994542</td>\n",
       "    </tr>\n",
       "    <tr>\n",
       "      <th>2022-05-11</th>\n",
       "      <td>0.998348</td>\n",
       "    </tr>\n",
       "    <tr>\n",
       "      <th>2022-05-12</th>\n",
       "      <td>0.983725</td>\n",
       "    </tr>\n",
       "    <tr>\n",
       "      <th>2022-05-13</th>\n",
       "      <td>1.021239</td>\n",
       "    </tr>\n",
       "    <tr>\n",
       "      <th>2022-05-16</th>\n",
       "      <td>0.997059</td>\n",
       "    </tr>\n",
       "    <tr>\n",
       "      <th>2022-05-17</th>\n",
       "      <td>1.009189</td>\n",
       "    </tr>\n",
       "  </tbody>\n",
       "</table>\n",
       "</div>"
      ],
      "text/plain": [
       "              change\n",
       "date                \n",
       "2022-05-10  0.994542\n",
       "2022-05-11  0.998348\n",
       "2022-05-12  0.983725\n",
       "2022-05-13  1.021239\n",
       "2022-05-16  0.997059\n",
       "2022-05-17  1.009189"
      ]
     },
     "execution_count": 101,
     "metadata": {},
     "output_type": "execute_result"
    }
   ],
   "source": [
    "test"
   ]
  },
  {
   "cell_type": "code",
   "execution_count": 102,
   "id": "30b4e04f",
   "metadata": {},
   "outputs": [],
   "source": [
    "forecast_data = model_fit.forecast(steps=6)"
   ]
  },
  {
   "cell_type": "code",
   "execution_count": 103,
   "id": "7f98fb03",
   "metadata": {},
   "outputs": [],
   "source": [
    "pred_y = forecast_data[0].tolist() # 예측 데이터\n",
    "test_y = test.change.values # 실제 데이터"
   ]
  },
  {
   "cell_type": "code",
   "execution_count": 104,
   "id": "df2ac6ae",
   "metadata": {},
   "outputs": [],
   "source": [
    "pred_y_lower = []\n",
    "pred_y_upper = []"
   ]
  },
  {
   "cell_type": "code",
   "execution_count": 105,
   "id": "f4168782",
   "metadata": {},
   "outputs": [],
   "source": [
    "for lower_upper in forecast_data[2]:\n",
    "    lower = lower_upper[0]\n",
    "    upper = lower_upper[1]\n",
    "    pred_y_lower.append(lower)\n",
    "    pred_y_upper.append(upper)"
   ]
  },
  {
   "cell_type": "code",
   "execution_count": 106,
   "id": "c3f8f7e7",
   "metadata": {},
   "outputs": [
    {
     "data": {
      "image/png": "[encoded data removed]",
      "text/plain": [
       "<Figure size 1080x720 with 1 Axes>"
      ]
     },
     "metadata": {
      "needs_background": "light"
     },
     "output_type": "display_data"
    }
   ],
   "source": [
    "plt.figure(figsize=(15,10))\n",
    "plt.plot(pred_y, color = 'black') # 6일 예측 데이터\n",
    "plt.plot(pred_y_lower, color = 'purple') # 모델이 예측한 최저 변동률\n",
    "plt.plot(pred_y_upper, color = 'blue') # 모델이 예측한 최고 변동률\n",
    "plt.plot(test_y, color = 'green') # 실제 데이터\n",
    "plt.legend(['predict','low','high','test'])\n",
    "plt.show()"
   ]
  },
  {
   "cell_type": "code",
   "execution_count": 107,
   "id": "846f3c5f",
   "metadata": {},
   "outputs": [
    {
     "name": "stdout",
     "output_type": "stream",
     "text": [
      "                              ARMA Model Results                              \n",
      "==============================================================================\n",
      "Dep. Variable:                      y   No. Observations:                 2053\n",
      "Model:                     ARMA(0, 2)   Log Likelihood                -296.944\n",
      "Method:                       css-mle   S.D. of innovations              0.279\n",
      "Date:                Thu, 26 May 2022   AIC                            599.887\n",
      "Time:                        16:33:05   BIC                            616.768\n",
      "Sample:                             0   HQIC                           606.077\n",
      "                                                                              \n",
      "==============================================================================\n",
      "                 coef    std err          z      P>|z|      [0.025      0.975]\n",
      "------------------------------------------------------------------------------\n",
      "ma.L1.y        1.7900      0.006    280.512      0.000       1.777       1.802\n",
      "ma.L2.y        0.9390      0.006    144.891      0.000       0.926       0.952\n",
      "                                    Roots                                    \n",
      "=============================================================================\n",
      "                  Real          Imaginary           Modulus         Frequency\n",
      "-----------------------------------------------------------------------------\n",
      "MA.1           -0.9531           -0.3956j            1.0320           -0.4374\n",
      "MA.2           -0.9531           +0.3956j            1.0320            0.4374\n",
      "-----------------------------------------------------------------------------\n"
     ]
    }
   ],
   "source": [
    "print(model_fit.summary())"
   ]
  },
  {
   "cell_type": "markdown",
   "id": "ddac8531",
   "metadata": {},
   "source": [
    "# 다시 처음부터 진행"
   ]
  },
  {
   "cell_type": "code",
   "execution_count": 108,
   "id": "2f5ad6cf",
   "metadata": {},
   "outputs": [],
   "source": [
    "import pandas as pd\n",
    "import numpy as np\n",
    "import matplotlib.pyplot as plt\n",
    "from statsmodels.tsa.arima_model import ARIMA\n",
    "import statsmodels.api as sm"
   ]
  },
  {
   "cell_type": "code",
   "execution_count": 109,
   "id": "f80ffcaa",
   "metadata": {},
   "outputs": [],
   "source": [
    "df = fdr.DataReader('KS11','2014','2022-05-09') \n",
    "data = df['Close'] \n",
    "auto = pd.DataFrame(data)\n",
    "auto = auto.rename(columns={'Close':'당일종가'})\n",
    "auto['전일종가'] = auto['당일종가'].shift()\n",
    "auto['전일종가'][0] = 2011.34\n",
    "auto['변동률'] = (auto['당일종가']/auto['전일종가'])"
   ]
  },
  {
   "cell_type": "code",
   "execution_count": 110,
   "id": "780d6a01",
   "metadata": {},
   "outputs": [],
   "source": [
    "auto1 = auto\n",
    "df = pd.DataFrame(auto1['변동률'])"
   ]
  },
  {
   "cell_type": "code",
   "execution_count": 111,
   "id": "62437719",
   "metadata": {},
   "outputs": [],
   "source": [
    "df['date'] = df.index"
   ]
  },
  {
   "cell_type": "code",
   "execution_count": 112,
   "id": "f7090dbc",
   "metadata": {},
   "outputs": [],
   "source": [
    "x_train = df[df['date'] < '2019-12-31']\n",
    "x_valid = df[(df['date'] >= '2020-01-01')]"
   ]
  },
  {
   "cell_type": "code",
   "execution_count": 113,
   "id": "fe7b009e",
   "metadata": {},
   "outputs": [],
   "source": [
    "x_train.set_index('date',inplace = True)"
   ]
  },
  {
   "cell_type": "code",
   "execution_count": 114,
   "id": "bc127be8",
   "metadata": {},
   "outputs": [],
   "source": [
    "x_valid.set_index('date',inplace = True)"
   ]
  },
  {
   "cell_type": "code",
   "execution_count": 115,
   "id": "f4d44cb4",
   "metadata": {},
   "outputs": [],
   "source": [
    "a = x_train\n",
    "b = x_valid"
   ]
  },
  {
   "cell_type": "code",
   "execution_count": 116,
   "id": "7c5cfc22",
   "metadata": {},
   "outputs": [],
   "source": [
    "a.columns = {'change'}\n",
    "b.columns = {'change'}"
   ]
  },
  {
   "cell_type": "code",
   "execution_count": 117,
   "id": "e98129f3",
   "metadata": {},
   "outputs": [
    {
     "name": "stdout",
     "output_type": "stream",
     "text": [
      "<class 'pandas.core.frame.DataFrame'>\n",
      "DatetimeIndex: 1472 entries, 2014-01-02 to 2019-12-30\n",
      "Data columns (total 1 columns):\n",
      " #   Column  Non-Null Count  Dtype  \n",
      "---  ------  --------------  -----  \n",
      " 0   change  1472 non-null   float64\n",
      "dtypes: float64(1)\n",
      "memory usage: 23.0 KB\n"
     ]
    }
   ],
   "source": [
    "a.info()"
   ]
  },
  {
   "cell_type": "code",
   "execution_count": 118,
   "id": "724f9a07",
   "metadata": {},
   "outputs": [],
   "source": [
    "model = ARIMA(a,order = (1,1,1))"
   ]
  },
  {
   "cell_type": "code",
   "execution_count": 119,
   "id": "098c3438",
   "metadata": {},
   "outputs": [],
   "source": [
    "model_fit = model.fit(trend='c',full_output=True,disp=True)"
   ]
  },
  {
   "cell_type": "code",
   "execution_count": 120,
   "id": "05a8a98f",
   "metadata": {},
   "outputs": [
    {
     "name": "stdout",
     "output_type": "stream",
     "text": [
      "                             ARIMA Model Results                              \n",
      "==============================================================================\n",
      "Dep. Variable:               D.change   No. Observations:                 1471\n",
      "Model:                 ARIMA(1, 1, 1)   Log Likelihood                5094.568\n",
      "Method:                       css-mle   S.D. of innovations              0.008\n",
      "Date:                Thu, 26 May 2022   AIC                         -10181.135\n",
      "Time:                        16:33:08   BIC                         -10159.960\n",
      "Sample:                             1   HQIC                        -10173.239\n",
      "                                                                              \n",
      "==================================================================================\n",
      "                     coef    std err          z      P>|z|      [0.025      0.975]\n",
      "----------------------------------------------------------------------------------\n",
      "const          -2.155e-08   4.74e-07     -0.045      0.964   -9.51e-07    9.08e-07\n",
      "ar.L1.D.change     0.0219      0.026      0.839      0.401      -0.029       0.073\n",
      "ma.L1.D.change    -0.9999      0.002   -489.348      0.000      -1.004      -0.996\n",
      "                                    Roots                                    \n",
      "=============================================================================\n",
      "                  Real          Imaginary           Modulus         Frequency\n",
      "-----------------------------------------------------------------------------\n",
      "AR.1           45.5778           +0.0000j           45.5778            0.0000\n",
      "MA.1            1.0001           +0.0000j            1.0001            0.0000\n",
      "-----------------------------------------------------------------------------\n"
     ]
    }
   ],
   "source": [
    "print(model_fit.summary())"
   ]
  },
  {
   "cell_type": "code",
   "execution_count": 121,
   "id": "810a5d6e",
   "metadata": {},
   "outputs": [],
   "source": [
    "a_pred = model_fit.predict(1,1472,typ='levels')"
   ]
  },
  {
   "cell_type": "code",
   "execution_count": 122,
   "id": "f3b49f55",
   "metadata": {},
   "outputs": [],
   "source": [
    "a_pred.index = a.index"
   ]
  },
  {
   "cell_type": "code",
   "execution_count": 123,
   "id": "151e26f6",
   "metadata": {},
   "outputs": [
    {
     "data": {
      "image/png": "[encoded data removed]",
      "text/plain": [
       "<Figure size 1080x720 with 1 Axes>"
      ]
     },
     "metadata": {
      "needs_background": "light"
     },
     "output_type": "display_data"
    }
   ],
   "source": [
    "plt.figure(figsize=(15,10))\n",
    "plt.plot(a,label = 'Real')\n",
    "plt.plot(a_pred, label = 'predict')\n",
    "plt.legend()\n",
    "plt.show()"
   ]
  },
  {
   "cell_type": "code",
   "execution_count": 124,
   "id": "1d409d95",
   "metadata": {},
   "outputs": [
    {
     "data": {
      "text/html": [
       "<div>\n",
       "<style scoped>\n",
       "    .dataframe tbody tr th:only-of-type {\n",
       "        vertical-align: middle;\n",
       "    }\n",
       "\n",
       "    .dataframe tbody tr th {\n",
       "        vertical-align: top;\n",
       "    }\n",
       "\n",
       "    .dataframe thead th {\n",
       "        text-align: right;\n",
       "    }\n",
       "</style>\n",
       "<table border=\"1\" class=\"dataframe\">\n",
       "  <thead>\n",
       "    <tr style=\"text-align: right;\">\n",
       "      <th></th>\n",
       "      <th>변동률</th>\n",
       "      <th>date</th>\n",
       "    </tr>\n",
       "    <tr>\n",
       "      <th>Date</th>\n",
       "      <th></th>\n",
       "      <th></th>\n",
       "    </tr>\n",
       "  </thead>\n",
       "  <tbody>\n",
       "    <tr>\n",
       "      <th>2014-01-02</th>\n",
       "      <td>0.978049</td>\n",
       "      <td>2014-01-02</td>\n",
       "    </tr>\n",
       "    <tr>\n",
       "      <th>2014-01-03</th>\n",
       "      <td>0.989299</td>\n",
       "      <td>2014-01-03</td>\n",
       "    </tr>\n",
       "    <tr>\n",
       "      <th>2014-01-06</th>\n",
       "      <td>1.003669</td>\n",
       "      <td>2014-01-06</td>\n",
       "    </tr>\n",
       "    <tr>\n",
       "      <th>2014-01-07</th>\n",
       "      <td>1.003154</td>\n",
       "      <td>2014-01-07</td>\n",
       "    </tr>\n",
       "    <tr>\n",
       "      <th>2014-01-08</th>\n",
       "      <td>0.999755</td>\n",
       "      <td>2014-01-08</td>\n",
       "    </tr>\n",
       "    <tr>\n",
       "      <th>...</th>\n",
       "      <td>...</td>\n",
       "      <td>...</td>\n",
       "    </tr>\n",
       "    <tr>\n",
       "      <th>2022-05-02</th>\n",
       "      <td>0.997180</td>\n",
       "      <td>2022-05-02</td>\n",
       "    </tr>\n",
       "    <tr>\n",
       "      <th>2022-05-03</th>\n",
       "      <td>0.997399</td>\n",
       "      <td>2022-05-03</td>\n",
       "    </tr>\n",
       "    <tr>\n",
       "      <th>2022-05-04</th>\n",
       "      <td>0.998922</td>\n",
       "      <td>2022-05-04</td>\n",
       "    </tr>\n",
       "    <tr>\n",
       "      <th>2022-05-06</th>\n",
       "      <td>0.987653</td>\n",
       "      <td>2022-05-06</td>\n",
       "    </tr>\n",
       "    <tr>\n",
       "      <th>2022-05-09</th>\n",
       "      <td>0.987257</td>\n",
       "      <td>2022-05-09</td>\n",
       "    </tr>\n",
       "  </tbody>\n",
       "</table>\n",
       "<p>2053 rows × 2 columns</p>\n",
       "</div>"
      ],
      "text/plain": [
       "                 변동률       date\n",
       "Date                           \n",
       "2014-01-02  0.978049 2014-01-02\n",
       "2014-01-03  0.989299 2014-01-03\n",
       "2014-01-06  1.003669 2014-01-06\n",
       "2014-01-07  1.003154 2014-01-07\n",
       "2014-01-08  0.999755 2014-01-08\n",
       "...              ...        ...\n",
       "2022-05-02  0.997180 2022-05-02\n",
       "2022-05-03  0.997399 2022-05-03\n",
       "2022-05-04  0.998922 2022-05-04\n",
       "2022-05-06  0.987653 2022-05-06\n",
       "2022-05-09  0.987257 2022-05-09\n",
       "\n",
       "[2053 rows x 2 columns]"
      ]
     },
     "execution_count": 124,
     "metadata": {},
     "output_type": "execute_result"
    }
   ],
   "source": [
    "df"
   ]
  },
  {
   "cell_type": "code",
   "execution_count": 125,
   "id": "f650b692",
   "metadata": {},
   "outputs": [],
   "source": [
    "df_pred = model_fit.predict(1,2053,typ='levels')"
   ]
  },
  {
   "cell_type": "code",
   "execution_count": 126,
   "id": "9b681593",
   "metadata": {},
   "outputs": [
    {
     "data": {
      "image/png": "[encoded data removed]",
      "text/plain": [
       "<Figure size 1080x720 with 1 Axes>"
      ]
     },
     "metadata": {
      "needs_background": "light"
     },
     "output_type": "display_data"
    }
   ],
   "source": [
    "plt.figure(figsize=(15,10))\n",
    "plt.plot(df,label = 'Real')\n",
    "plt.plot(df_pred, label = 'predict')\n",
    "plt.legend()\n",
    "plt.show()"
   ]
  },
  {
   "cell_type": "code",
   "execution_count": 127,
   "id": "1a9cf617",
   "metadata": {},
   "outputs": [
    {
     "data": {
      "text/plain": [
       "[<matplotlib.lines.Line2D at 0x17130f5a850>]"
      ]
     },
     "execution_count": 127,
     "metadata": {},
     "output_type": "execute_result"
    },
    {
     "data": {
      "image/png": "[encoded data removed]",
      "text/plain": [
       "<Figure size 1080x720 with 1 Axes>"
      ]
     },
     "metadata": {
      "needs_background": "light"
     },
     "output_type": "display_data"
    }
   ],
   "source": [
    "plt.figure(figsize=(15,10))\n",
    "plt.plot(df_pred, label = 'predict') # ?"
   ]
  },
  {
   "cell_type": "markdown",
   "id": "91c62154",
   "metadata": {},
   "source": [
    "# MA(2) 모형으로 동일 과정 반복"
   ]
  },
  {
   "cell_type": "code",
   "execution_count": 128,
   "id": "4117b0e5",
   "metadata": {},
   "outputs": [],
   "source": [
    "model = ARIMA(a,order = (0,0,2))"
   ]
  },
  {
   "cell_type": "code",
   "execution_count": 129,
   "id": "d70b4afa",
   "metadata": {},
   "outputs": [],
   "source": [
    "model_fit = model.fit(trend='c',full_output=True,disp=True)"
   ]
  },
  {
   "cell_type": "code",
   "execution_count": 130,
   "id": "61a32669",
   "metadata": {},
   "outputs": [
    {
     "name": "stdout",
     "output_type": "stream",
     "text": [
      "                              ARMA Model Results                              \n",
      "==============================================================================\n",
      "Dep. Variable:                 change   No. Observations:                 1472\n",
      "Model:                     ARMA(0, 2)   Log Likelihood                5103.406\n",
      "Method:                       css-mle   S.D. of innovations              0.008\n",
      "Date:                Thu, 26 May 2022   AIC                         -10198.811\n",
      "Time:                        16:33:09   BIC                         -10177.634\n",
      "Sample:                             0   HQIC                        -10190.914\n",
      "                                                                              \n",
      "================================================================================\n",
      "                   coef    std err          z      P>|z|      [0.025      0.975]\n",
      "--------------------------------------------------------------------------------\n",
      "const            1.0001      0.000   4784.067      0.000       1.000       1.000\n",
      "ma.L1.change     0.0198      0.026      0.759      0.448      -0.031       0.071\n",
      "ma.L2.change     0.0423      0.026      1.599      0.110      -0.010       0.094\n",
      "                                    Roots                                    \n",
      "=============================================================================\n",
      "                  Real          Imaginary           Modulus         Frequency\n",
      "-----------------------------------------------------------------------------\n",
      "MA.1           -0.2344           -4.8590j            4.8646           -0.2577\n",
      "MA.2           -0.2344           +4.8590j            4.8646            0.2577\n",
      "-----------------------------------------------------------------------------\n"
     ]
    }
   ],
   "source": [
    "print(model_fit.summary())"
   ]
  },
  {
   "cell_type": "markdown",
   "id": "d7dc9517",
   "metadata": {},
   "source": [
    "- 의미 없는 수치 이므로, 다른 방법 사용"
   ]
  },
  {
   "cell_type": "code",
   "execution_count": 131,
   "id": "05a2e5a4",
   "metadata": {},
   "outputs": [
    {
     "name": "stdout",
     "output_type": "stream",
     "text": [
      "                              ARMA Model Results                              \n",
      "==============================================================================\n",
      "Dep. Variable:                 change   No. Observations:                 1472\n",
      "Model:                     ARMA(0, 2)   Log Likelihood                -181.120\n",
      "Method:                       css-mle   S.D. of innovations              0.273\n",
      "Date:                Thu, 26 May 2022   AIC                            368.241\n",
      "Time:                        16:33:09   BIC                            384.124\n",
      "Sample:                             0   HQIC                           374.163\n",
      "                                                                              \n",
      "================================================================================\n",
      "                   coef    std err          z      P>|z|      [0.025      0.975]\n",
      "--------------------------------------------------------------------------------\n",
      "ma.L1.change     1.8582      0.008    219.940      0.000       1.842       1.875\n",
      "ma.L2.change     0.9389      0.007    133.543      0.000       0.925       0.953\n",
      "                                    Roots                                    \n",
      "=============================================================================\n",
      "                  Real          Imaginary           Modulus         Frequency\n",
      "-----------------------------------------------------------------------------\n",
      "MA.1           -0.9895           -0.2930j            1.0320           -0.4542\n",
      "MA.2           -0.9895           +0.2930j            1.0320            0.4542\n",
      "-----------------------------------------------------------------------------\n"
     ]
    }
   ],
   "source": [
    "model = ARIMA(a.change, order = (0,0,2))\n",
    "model_fit = model.fit(trend = 'nc', full_output = True, disp = True)\n",
    "print(model_fit.summary())"
   ]
  },
  {
   "cell_type": "code",
   "execution_count": 132,
   "id": "5d612cf1",
   "metadata": {},
   "outputs": [
    {
     "data": {
      "image/png": "[encoded data removed]",
      "text/plain": [
       "<Figure size 432x288 with 1 Axes>"
      ]
     },
     "metadata": {
      "needs_background": "light"
     },
     "output_type": "display_data"
    }
   ],
   "source": [
    "fig = model_fit.plot_predict()"
   ]
  },
  {
   "cell_type": "markdown",
   "id": "9799a190",
   "metadata": {},
   "source": [
    "# 전체 데이터셋을 동일한 방법으로 확인"
   ]
  },
  {
   "cell_type": "code",
   "execution_count": 133,
   "id": "a5bd9aad",
   "metadata": {},
   "outputs": [
    {
     "name": "stdout",
     "output_type": "stream",
     "text": [
      "                              ARMA Model Results                              \n",
      "==============================================================================\n",
      "Dep. Variable:                    변동률   No. Observations:                 2053\n",
      "Model:                     ARMA(0, 2)   Log Likelihood                -296.944\n",
      "Method:                       css-mle   S.D. of innovations              0.279\n",
      "Date:                Thu, 26 May 2022   AIC                            599.887\n",
      "Time:                        16:33:09   BIC                            616.768\n",
      "Sample:                             0   HQIC                           606.077\n",
      "                                                                              \n",
      "==============================================================================\n",
      "                 coef    std err          z      P>|z|      [0.025      0.975]\n",
      "------------------------------------------------------------------------------\n",
      "ma.L1.변동률      1.7900      0.006    280.512      0.000       1.777       1.802\n",
      "ma.L2.변동률      0.9390      0.006    144.891      0.000       0.926       0.952\n",
      "                                    Roots                                    \n",
      "=============================================================================\n",
      "                  Real          Imaginary           Modulus         Frequency\n",
      "-----------------------------------------------------------------------------\n",
      "MA.1           -0.9531           -0.3956j            1.0320           -0.4374\n",
      "MA.2           -0.9531           +0.3956j            1.0320            0.4374\n",
      "-----------------------------------------------------------------------------\n"
     ]
    }
   ],
   "source": [
    "model = ARIMA(df.변동률, order = (0,0,2))\n",
    "model_fit = model.fit(trend = 'nc', full_output = True, disp = 1)\n",
    "print(model_fit.summary())"
   ]
  },
  {
   "cell_type": "code",
   "execution_count": 134,
   "id": "3e19fd61",
   "metadata": {},
   "outputs": [
    {
     "name": "stdout",
     "output_type": "stream",
     "text": [
      "                              ARMA Model Results                              \n",
      "==============================================================================\n",
      "Dep. Variable:                    변동률   No. Observations:                 2053\n",
      "Model:                     ARMA(0, 2)   Log Likelihood                -296.944\n",
      "Method:                       css-mle   S.D. of innovations              0.279\n",
      "Date:                Thu, 26 May 2022   AIC                            599.887\n",
      "Time:                        16:33:09   BIC                            616.768\n",
      "Sample:                             0   HQIC                           606.077\n",
      "                                                                              \n",
      "==============================================================================\n",
      "                 coef    std err          z      P>|z|      [0.025      0.975]\n",
      "------------------------------------------------------------------------------\n",
      "ma.L1.변동률      1.7900      0.006    280.512      0.000       1.777       1.802\n",
      "ma.L2.변동률      0.9390      0.006    144.891      0.000       0.926       0.952\n",
      "                                    Roots                                    \n",
      "=============================================================================\n",
      "                  Real          Imaginary           Modulus         Frequency\n",
      "-----------------------------------------------------------------------------\n",
      "MA.1           -0.9531           -0.3956j            1.0320           -0.4374\n",
      "MA.2           -0.9531           +0.3956j            1.0320            0.4374\n",
      "-----------------------------------------------------------------------------\n"
     ]
    }
   ],
   "source": [
    "model = ARIMA(df.변동률, order = (0,0,2))\n",
    "model_fit = model.fit(trend = 'nc', full_output = True, disp = True)\n",
    "print(model_fit.summary())"
   ]
  },
  {
   "cell_type": "code",
   "execution_count": 135,
   "id": "92dba4bd",
   "metadata": {},
   "outputs": [
    {
     "data": {
      "image/png": "[encoded data removed]",
      "text/plain": [
       "<Figure size 432x288 with 1 Axes>"
      ]
     },
     "metadata": {
      "needs_background": "light"
     },
     "output_type": "display_data"
    }
   ],
   "source": [
    "fig = model_fit.plot_predict()"
   ]
  },
  {
   "cell_type": "code",
   "execution_count": 136,
   "id": "12e717ea",
   "metadata": {},
   "outputs": [
    {
     "name": "stdout",
     "output_type": "stream",
     "text": [
      "(array([0.69388702, 0.23711207, 0.        , 0.        , 0.        ,\n",
      "       0.        ]), array([0.27920615, 0.57247019, 0.62964583, 0.62964583, 0.62964583,\n",
      "       0.62964583]), array([[ 0.14665302,  1.24112101],\n",
      "       [-0.88490887,  1.35913302],\n",
      "       [-1.23408315,  1.23408315],\n",
      "       [-1.23408315,  1.23408315],\n",
      "       [-1.23408315,  1.23408315],\n",
      "       [-1.23408315,  1.23408315]]))\n"
     ]
    }
   ],
   "source": [
    "fore = model_fit.forecast(steps=6)\n",
    "print(fore) # 예측값, stderr, upper bound, lower bound"
   ]
  },
  {
   "cell_type": "code",
   "execution_count": 137,
   "id": "9d4dcb11",
   "metadata": {},
   "outputs": [
    {
     "data": {
      "text/html": [
       "<div>\n",
       "<style scoped>\n",
       "    .dataframe tbody tr th:only-of-type {\n",
       "        vertical-align: middle;\n",
       "    }\n",
       "\n",
       "    .dataframe tbody tr th {\n",
       "        vertical-align: top;\n",
       "    }\n",
       "\n",
       "    .dataframe thead th {\n",
       "        text-align: right;\n",
       "    }\n",
       "</style>\n",
       "<table border=\"1\" class=\"dataframe\">\n",
       "  <thead>\n",
       "    <tr style=\"text-align: right;\">\n",
       "      <th></th>\n",
       "      <th>change</th>\n",
       "    </tr>\n",
       "    <tr>\n",
       "      <th>date</th>\n",
       "      <th></th>\n",
       "    </tr>\n",
       "  </thead>\n",
       "  <tbody>\n",
       "    <tr>\n",
       "      <th>2022-05-10</th>\n",
       "      <td>0.994542</td>\n",
       "    </tr>\n",
       "    <tr>\n",
       "      <th>2022-05-11</th>\n",
       "      <td>0.998348</td>\n",
       "    </tr>\n",
       "    <tr>\n",
       "      <th>2022-05-12</th>\n",
       "      <td>0.983725</td>\n",
       "    </tr>\n",
       "    <tr>\n",
       "      <th>2022-05-13</th>\n",
       "      <td>1.021239</td>\n",
       "    </tr>\n",
       "    <tr>\n",
       "      <th>2022-05-16</th>\n",
       "      <td>0.997059</td>\n",
       "    </tr>\n",
       "    <tr>\n",
       "      <th>2022-05-17</th>\n",
       "      <td>1.009189</td>\n",
       "    </tr>\n",
       "  </tbody>\n",
       "</table>\n",
       "</div>"
      ],
      "text/plain": [
       "              change\n",
       "date                \n",
       "2022-05-10  0.994542\n",
       "2022-05-11  0.998348\n",
       "2022-05-12  0.983725\n",
       "2022-05-13  1.021239\n",
       "2022-05-16  0.997059\n",
       "2022-05-17  1.009189"
      ]
     },
     "execution_count": 137,
     "metadata": {},
     "output_type": "execute_result"
    }
   ],
   "source": [
    "test"
   ]
  },
  {
   "cell_type": "markdown",
   "id": "2e17bd20",
   "metadata": {},
   "source": [
    "# 추가"
   ]
  },
  {
   "cell_type": "code",
   "execution_count": 138,
   "id": "4ae355a0",
   "metadata": {},
   "outputs": [
    {
     "name": "stdout",
     "output_type": "stream",
     "text": [
      "                             ARIMA Model Results                              \n",
      "==============================================================================\n",
      "Dep. Variable:                  D.변동률   No. Observations:                 2052\n",
      "Model:                 ARIMA(1, 1, 1)   Log Likelihood                6552.300\n",
      "Method:                       css-mle   S.D. of innovations              0.010\n",
      "Date:                Thu, 26 May 2022   AIC                         -13096.600\n",
      "Time:                        16:33:10   BIC                         -13074.094\n",
      "Sample:                             1   HQIC                        -13088.347\n",
      "                                                                              \n",
      "===============================================================================\n",
      "                  coef    std err          z      P>|z|      [0.025      0.975]\n",
      "-------------------------------------------------------------------------------\n",
      "const       -2.947e-07   5.42e-06     -0.054      0.957   -1.09e-05    1.03e-05\n",
      "ar.L1.D.변동률     0.0074      0.017      0.444      0.657      -0.025       0.040\n",
      "ma.L1.D.변동률    -0.9759        nan        nan        nan         nan         nan\n",
      "                                    Roots                                    \n",
      "=============================================================================\n",
      "                  Real          Imaginary           Modulus         Frequency\n",
      "-----------------------------------------------------------------------------\n",
      "AR.1          134.6145           +0.0000j          134.6145            0.0000\n",
      "MA.1            1.0247           +0.0000j            1.0247            0.0000\n",
      "-----------------------------------------------------------------------------\n"
     ]
    }
   ],
   "source": [
    "model = ARIMA(df.변동률, order = (1,1,1))\n",
    "model_fit = model.fit(trend = 'c', full_output = True, disp = True)\n",
    "print(model_fit.summary())"
   ]
  },
  {
   "cell_type": "code",
   "execution_count": 139,
   "id": "5c3e395a",
   "metadata": {},
   "outputs": [
    {
     "name": "stdout",
     "output_type": "stream",
     "text": [
      "                             ARIMA Model Results                              \n",
      "==============================================================================\n",
      "Dep. Variable:                  D.변동률   No. Observations:                 2052\n",
      "Model:                 ARIMA(1, 1, 1)   Log Likelihood                6561.418\n",
      "Method:                       css-mle   S.D. of innovations              0.010\n",
      "Date:                Thu, 26 May 2022   AIC                         -13116.836\n",
      "Time:                        16:33:10   BIC                         -13099.957\n",
      "Sample:                             1   HQIC                        -13110.646\n",
      "                                                                              \n",
      "===============================================================================\n",
      "                  coef    std err          z      P>|z|      [0.025      0.975]\n",
      "-------------------------------------------------------------------------------\n",
      "ar.L1.D.변동률    -0.0018      0.022     -0.082      0.934      -0.045       0.042\n",
      "ma.L1.D.변동률    -0.9999      0.002   -616.628      0.000      -1.003      -0.997\n",
      "                                    Roots                                    \n",
      "=============================================================================\n",
      "                  Real          Imaginary           Modulus         Frequency\n",
      "-----------------------------------------------------------------------------\n",
      "AR.1         -549.4778           +0.0000j          549.4778            0.5000\n",
      "MA.1            1.0001           +0.0000j            1.0001            0.0000\n",
      "-----------------------------------------------------------------------------\n"
     ]
    }
   ],
   "source": [
    "model = ARIMA(df.변동률, order = (1,1,1))\n",
    "model_fit = model.fit(trend = 'nc', full_output = True, disp = True)\n",
    "print(model_fit.summary())"
   ]
  },
  {
   "cell_type": "markdown",
   "id": "5febbf4b",
   "metadata": {},
   "source": [
    "- 무의미한 수치 확인"
   ]
  },
  {
   "cell_type": "markdown",
   "id": "ec256bfb",
   "metadata": {},
   "source": [
    "# 12주차"
   ]
  },
  {
   "cell_type": "code",
   "execution_count": 140,
   "id": "fe8218d5",
   "metadata": {},
   "outputs": [],
   "source": [
    "import pandas as pd\n",
    "import numpy as np\n",
    "import matplotlib.pyplot as plt\n",
    "from statsmodels.tsa.arima_model import ARIMA\n",
    "import statsmodels.api as sm"
   ]
  },
  {
   "cell_type": "code",
   "execution_count": 141,
   "id": "ef2b5a34",
   "metadata": {},
   "outputs": [],
   "source": [
    "df = fdr.DataReader('KS11','2014','2022-05-23') "
   ]
  },
  {
   "cell_type": "code",
   "execution_count": 142,
   "id": "8c2f2761",
   "metadata": {},
   "outputs": [
    {
     "data": {
      "text/html": [
       "<div>\n",
       "<style scoped>\n",
       "    .dataframe tbody tr th:only-of-type {\n",
       "        vertical-align: middle;\n",
       "    }\n",
       "\n",
       "    .dataframe tbody tr th {\n",
       "        vertical-align: top;\n",
       "    }\n",
       "\n",
       "    .dataframe thead th {\n",
       "        text-align: right;\n",
       "    }\n",
       "</style>\n",
       "<table border=\"1\" class=\"dataframe\">\n",
       "  <thead>\n",
       "    <tr style=\"text-align: right;\">\n",
       "      <th></th>\n",
       "      <th>Close</th>\n",
       "      <th>Open</th>\n",
       "      <th>High</th>\n",
       "      <th>Low</th>\n",
       "      <th>Volume</th>\n",
       "      <th>Change</th>\n",
       "    </tr>\n",
       "    <tr>\n",
       "      <th>Date</th>\n",
       "      <th></th>\n",
       "      <th></th>\n",
       "      <th></th>\n",
       "      <th></th>\n",
       "      <th></th>\n",
       "      <th></th>\n",
       "    </tr>\n",
       "  </thead>\n",
       "  <tbody>\n",
       "    <tr>\n",
       "      <th>2014-01-02</th>\n",
       "      <td>1967.19</td>\n",
       "      <td>2013.11</td>\n",
       "      <td>2013.89</td>\n",
       "      <td>1967.19</td>\n",
       "      <td>207770000.0</td>\n",
       "      <td>-0.0220</td>\n",
       "    </tr>\n",
       "    <tr>\n",
       "      <th>2014-01-03</th>\n",
       "      <td>1946.14</td>\n",
       "      <td>1963.72</td>\n",
       "      <td>1964.63</td>\n",
       "      <td>1936.15</td>\n",
       "      <td>188530000.0</td>\n",
       "      <td>-0.0107</td>\n",
       "    </tr>\n",
       "    <tr>\n",
       "      <th>2014-01-06</th>\n",
       "      <td>1953.28</td>\n",
       "      <td>1947.62</td>\n",
       "      <td>1961.85</td>\n",
       "      <td>1943.74</td>\n",
       "      <td>193630000.0</td>\n",
       "      <td>0.0037</td>\n",
       "    </tr>\n",
       "    <tr>\n",
       "      <th>2014-01-07</th>\n",
       "      <td>1959.44</td>\n",
       "      <td>1947.65</td>\n",
       "      <td>1965.74</td>\n",
       "      <td>1947.08</td>\n",
       "      <td>193030000.0</td>\n",
       "      <td>0.0032</td>\n",
       "    </tr>\n",
       "    <tr>\n",
       "      <th>2014-01-08</th>\n",
       "      <td>1958.96</td>\n",
       "      <td>1965.50</td>\n",
       "      <td>1966.95</td>\n",
       "      <td>1950.02</td>\n",
       "      <td>217070000.0</td>\n",
       "      <td>-0.0002</td>\n",
       "    </tr>\n",
       "    <tr>\n",
       "      <th>...</th>\n",
       "      <td>...</td>\n",
       "      <td>...</td>\n",
       "      <td>...</td>\n",
       "      <td>...</td>\n",
       "      <td>...</td>\n",
       "      <td>...</td>\n",
       "    </tr>\n",
       "    <tr>\n",
       "      <th>2022-05-17</th>\n",
       "      <td>2620.44</td>\n",
       "      <td>2603.58</td>\n",
       "      <td>2621.84</td>\n",
       "      <td>2603.58</td>\n",
       "      <td>873520000.0</td>\n",
       "      <td>0.0092</td>\n",
       "    </tr>\n",
       "    <tr>\n",
       "      <th>2022-05-18</th>\n",
       "      <td>2625.98</td>\n",
       "      <td>2634.75</td>\n",
       "      <td>2644.13</td>\n",
       "      <td>2618.00</td>\n",
       "      <td>870270000.0</td>\n",
       "      <td>0.0021</td>\n",
       "    </tr>\n",
       "    <tr>\n",
       "      <th>2022-05-19</th>\n",
       "      <td>2592.34</td>\n",
       "      <td>2576.24</td>\n",
       "      <td>2597.79</td>\n",
       "      <td>2568.54</td>\n",
       "      <td>677600000.0</td>\n",
       "      <td>-0.0128</td>\n",
       "    </tr>\n",
       "    <tr>\n",
       "      <th>2022-05-20</th>\n",
       "      <td>2639.29</td>\n",
       "      <td>2605.78</td>\n",
       "      <td>2641.68</td>\n",
       "      <td>2605.38</td>\n",
       "      <td>755650000.0</td>\n",
       "      <td>0.0181</td>\n",
       "    </tr>\n",
       "    <tr>\n",
       "      <th>2022-05-23</th>\n",
       "      <td>2647.38</td>\n",
       "      <td>2651.63</td>\n",
       "      <td>2653.87</td>\n",
       "      <td>2634.29</td>\n",
       "      <td>644200000.0</td>\n",
       "      <td>0.0031</td>\n",
       "    </tr>\n",
       "  </tbody>\n",
       "</table>\n",
       "<p>2063 rows × 6 columns</p>\n",
       "</div>"
      ],
      "text/plain": [
       "              Close     Open     High      Low       Volume  Change\n",
       "Date                                                               \n",
       "2014-01-02  1967.19  2013.11  2013.89  1967.19  207770000.0 -0.0220\n",
       "2014-01-03  1946.14  1963.72  1964.63  1936.15  188530000.0 -0.0107\n",
       "2014-01-06  1953.28  1947.62  1961.85  1943.74  193630000.0  0.0037\n",
       "2014-01-07  1959.44  1947.65  1965.74  1947.08  193030000.0  0.0032\n",
       "2014-01-08  1958.96  1965.50  1966.95  1950.02  217070000.0 -0.0002\n",
       "...             ...      ...      ...      ...          ...     ...\n",
       "2022-05-17  2620.44  2603.58  2621.84  2603.58  873520000.0  0.0092\n",
       "2022-05-18  2625.98  2634.75  2644.13  2618.00  870270000.0  0.0021\n",
       "2022-05-19  2592.34  2576.24  2597.79  2568.54  677600000.0 -0.0128\n",
       "2022-05-20  2639.29  2605.78  2641.68  2605.38  755650000.0  0.0181\n",
       "2022-05-23  2647.38  2651.63  2653.87  2634.29  644200000.0  0.0031\n",
       "\n",
       "[2063 rows x 6 columns]"
      ]
     },
     "execution_count": 142,
     "metadata": {},
     "output_type": "execute_result"
    }
   ],
   "source": [
    "df"
   ]
  },
  {
   "cell_type": "code",
   "execution_count": 143,
   "id": "78478179",
   "metadata": {},
   "outputs": [],
   "source": [
    "data = df['Close']"
   ]
  },
  {
   "cell_type": "code",
   "execution_count": 144,
   "id": "a1107e12",
   "metadata": {},
   "outputs": [],
   "source": [
    "data = data.reset_index()"
   ]
  },
  {
   "cell_type": "code",
   "execution_count": 145,
   "id": "5639acce",
   "metadata": {},
   "outputs": [
    {
     "data": {
      "text/html": [
       "<div>\n",
       "<style scoped>\n",
       "    .dataframe tbody tr th:only-of-type {\n",
       "        vertical-align: middle;\n",
       "    }\n",
       "\n",
       "    .dataframe tbody tr th {\n",
       "        vertical-align: top;\n",
       "    }\n",
       "\n",
       "    .dataframe thead th {\n",
       "        text-align: right;\n",
       "    }\n",
       "</style>\n",
       "<table border=\"1\" class=\"dataframe\">\n",
       "  <thead>\n",
       "    <tr style=\"text-align: right;\">\n",
       "      <th></th>\n",
       "      <th>Date</th>\n",
       "      <th>Close</th>\n",
       "    </tr>\n",
       "  </thead>\n",
       "  <tbody>\n",
       "    <tr>\n",
       "      <th>0</th>\n",
       "      <td>2014-01-02</td>\n",
       "      <td>1967.19</td>\n",
       "    </tr>\n",
       "    <tr>\n",
       "      <th>1</th>\n",
       "      <td>2014-01-03</td>\n",
       "      <td>1946.14</td>\n",
       "    </tr>\n",
       "    <tr>\n",
       "      <th>2</th>\n",
       "      <td>2014-01-06</td>\n",
       "      <td>1953.28</td>\n",
       "    </tr>\n",
       "    <tr>\n",
       "      <th>3</th>\n",
       "      <td>2014-01-07</td>\n",
       "      <td>1959.44</td>\n",
       "    </tr>\n",
       "    <tr>\n",
       "      <th>4</th>\n",
       "      <td>2014-01-08</td>\n",
       "      <td>1958.96</td>\n",
       "    </tr>\n",
       "    <tr>\n",
       "      <th>...</th>\n",
       "      <td>...</td>\n",
       "      <td>...</td>\n",
       "    </tr>\n",
       "    <tr>\n",
       "      <th>2058</th>\n",
       "      <td>2022-05-17</td>\n",
       "      <td>2620.44</td>\n",
       "    </tr>\n",
       "    <tr>\n",
       "      <th>2059</th>\n",
       "      <td>2022-05-18</td>\n",
       "      <td>2625.98</td>\n",
       "    </tr>\n",
       "    <tr>\n",
       "      <th>2060</th>\n",
       "      <td>2022-05-19</td>\n",
       "      <td>2592.34</td>\n",
       "    </tr>\n",
       "    <tr>\n",
       "      <th>2061</th>\n",
       "      <td>2022-05-20</td>\n",
       "      <td>2639.29</td>\n",
       "    </tr>\n",
       "    <tr>\n",
       "      <th>2062</th>\n",
       "      <td>2022-05-23</td>\n",
       "      <td>2647.38</td>\n",
       "    </tr>\n",
       "  </tbody>\n",
       "</table>\n",
       "<p>2063 rows × 2 columns</p>\n",
       "</div>"
      ],
      "text/plain": [
       "           Date    Close\n",
       "0    2014-01-02  1967.19\n",
       "1    2014-01-03  1946.14\n",
       "2    2014-01-06  1953.28\n",
       "3    2014-01-07  1959.44\n",
       "4    2014-01-08  1958.96\n",
       "...         ...      ...\n",
       "2058 2022-05-17  2620.44\n",
       "2059 2022-05-18  2625.98\n",
       "2060 2022-05-19  2592.34\n",
       "2061 2022-05-20  2639.29\n",
       "2062 2022-05-23  2647.38\n",
       "\n",
       "[2063 rows x 2 columns]"
      ]
     },
     "execution_count": 145,
     "metadata": {},
     "output_type": "execute_result"
    }
   ],
   "source": [
    "data"
   ]
  },
  {
   "cell_type": "code",
   "execution_count": 146,
   "id": "4ec06e84",
   "metadata": {},
   "outputs": [],
   "source": [
    "data = data.rename(columns={'Close':'today'})\n",
    "data['yesterday'] = data['today'].shift()"
   ]
  },
  {
   "cell_type": "code",
   "execution_count": 147,
   "id": "fc6b3edc",
   "metadata": {},
   "outputs": [],
   "source": [
    "data['yesterday'][0] = 2011.34"
   ]
  },
  {
   "cell_type": "code",
   "execution_count": 148,
   "id": "f6bdc965",
   "metadata": {},
   "outputs": [
    {
     "data": {
      "text/html": [
       "<div>\n",
       "<style scoped>\n",
       "    .dataframe tbody tr th:only-of-type {\n",
       "        vertical-align: middle;\n",
       "    }\n",
       "\n",
       "    .dataframe tbody tr th {\n",
       "        vertical-align: top;\n",
       "    }\n",
       "\n",
       "    .dataframe thead th {\n",
       "        text-align: right;\n",
       "    }\n",
       "</style>\n",
       "<table border=\"1\" class=\"dataframe\">\n",
       "  <thead>\n",
       "    <tr style=\"text-align: right;\">\n",
       "      <th></th>\n",
       "      <th>Date</th>\n",
       "      <th>today</th>\n",
       "      <th>yesterday</th>\n",
       "    </tr>\n",
       "  </thead>\n",
       "  <tbody>\n",
       "    <tr>\n",
       "      <th>0</th>\n",
       "      <td>2014-01-02</td>\n",
       "      <td>1967.19</td>\n",
       "      <td>2011.34</td>\n",
       "    </tr>\n",
       "    <tr>\n",
       "      <th>1</th>\n",
       "      <td>2014-01-03</td>\n",
       "      <td>1946.14</td>\n",
       "      <td>1967.19</td>\n",
       "    </tr>\n",
       "    <tr>\n",
       "      <th>2</th>\n",
       "      <td>2014-01-06</td>\n",
       "      <td>1953.28</td>\n",
       "      <td>1946.14</td>\n",
       "    </tr>\n",
       "    <tr>\n",
       "      <th>3</th>\n",
       "      <td>2014-01-07</td>\n",
       "      <td>1959.44</td>\n",
       "      <td>1953.28</td>\n",
       "    </tr>\n",
       "    <tr>\n",
       "      <th>4</th>\n",
       "      <td>2014-01-08</td>\n",
       "      <td>1958.96</td>\n",
       "      <td>1959.44</td>\n",
       "    </tr>\n",
       "    <tr>\n",
       "      <th>...</th>\n",
       "      <td>...</td>\n",
       "      <td>...</td>\n",
       "      <td>...</td>\n",
       "    </tr>\n",
       "    <tr>\n",
       "      <th>2058</th>\n",
       "      <td>2022-05-17</td>\n",
       "      <td>2620.44</td>\n",
       "      <td>2596.58</td>\n",
       "    </tr>\n",
       "    <tr>\n",
       "      <th>2059</th>\n",
       "      <td>2022-05-18</td>\n",
       "      <td>2625.98</td>\n",
       "      <td>2620.44</td>\n",
       "    </tr>\n",
       "    <tr>\n",
       "      <th>2060</th>\n",
       "      <td>2022-05-19</td>\n",
       "      <td>2592.34</td>\n",
       "      <td>2625.98</td>\n",
       "    </tr>\n",
       "    <tr>\n",
       "      <th>2061</th>\n",
       "      <td>2022-05-20</td>\n",
       "      <td>2639.29</td>\n",
       "      <td>2592.34</td>\n",
       "    </tr>\n",
       "    <tr>\n",
       "      <th>2062</th>\n",
       "      <td>2022-05-23</td>\n",
       "      <td>2647.38</td>\n",
       "      <td>2639.29</td>\n",
       "    </tr>\n",
       "  </tbody>\n",
       "</table>\n",
       "<p>2063 rows × 3 columns</p>\n",
       "</div>"
      ],
      "text/plain": [
       "           Date    today  yesterday\n",
       "0    2014-01-02  1967.19    2011.34\n",
       "1    2014-01-03  1946.14    1967.19\n",
       "2    2014-01-06  1953.28    1946.14\n",
       "3    2014-01-07  1959.44    1953.28\n",
       "4    2014-01-08  1958.96    1959.44\n",
       "...         ...      ...        ...\n",
       "2058 2022-05-17  2620.44    2596.58\n",
       "2059 2022-05-18  2625.98    2620.44\n",
       "2060 2022-05-19  2592.34    2625.98\n",
       "2061 2022-05-20  2639.29    2592.34\n",
       "2062 2022-05-23  2647.38    2639.29\n",
       "\n",
       "[2063 rows x 3 columns]"
      ]
     },
     "execution_count": 148,
     "metadata": {},
     "output_type": "execute_result"
    }
   ],
   "source": [
    "data"
   ]
  },
  {
   "cell_type": "code",
   "execution_count": 149,
   "id": "3b6b6fd0",
   "metadata": {},
   "outputs": [],
   "source": [
    "data['change'] = (data['today']/data['yesterday'])"
   ]
  },
  {
   "cell_type": "code",
   "execution_count": 150,
   "id": "dc04dcb3",
   "metadata": {},
   "outputs": [],
   "source": [
    "data['Date'] = pd.to_datetime(data['Date'])"
   ]
  },
  {
   "cell_type": "code",
   "execution_count": 151,
   "id": "0a40ecf2",
   "metadata": {},
   "outputs": [],
   "source": [
    "sample = data[['Date','change']]"
   ]
  },
  {
   "cell_type": "code",
   "execution_count": 152,
   "id": "ab77f1da",
   "metadata": {},
   "outputs": [
    {
     "data": {
      "text/html": [
       "<div>\n",
       "<style scoped>\n",
       "    .dataframe tbody tr th:only-of-type {\n",
       "        vertical-align: middle;\n",
       "    }\n",
       "\n",
       "    .dataframe tbody tr th {\n",
       "        vertical-align: top;\n",
       "    }\n",
       "\n",
       "    .dataframe thead th {\n",
       "        text-align: right;\n",
       "    }\n",
       "</style>\n",
       "<table border=\"1\" class=\"dataframe\">\n",
       "  <thead>\n",
       "    <tr style=\"text-align: right;\">\n",
       "      <th></th>\n",
       "      <th>Date</th>\n",
       "      <th>change</th>\n",
       "    </tr>\n",
       "  </thead>\n",
       "  <tbody>\n",
       "    <tr>\n",
       "      <th>0</th>\n",
       "      <td>2014-01-02</td>\n",
       "      <td>0.978049</td>\n",
       "    </tr>\n",
       "    <tr>\n",
       "      <th>1</th>\n",
       "      <td>2014-01-03</td>\n",
       "      <td>0.989299</td>\n",
       "    </tr>\n",
       "    <tr>\n",
       "      <th>2</th>\n",
       "      <td>2014-01-06</td>\n",
       "      <td>1.003669</td>\n",
       "    </tr>\n",
       "    <tr>\n",
       "      <th>3</th>\n",
       "      <td>2014-01-07</td>\n",
       "      <td>1.003154</td>\n",
       "    </tr>\n",
       "    <tr>\n",
       "      <th>4</th>\n",
       "      <td>2014-01-08</td>\n",
       "      <td>0.999755</td>\n",
       "    </tr>\n",
       "    <tr>\n",
       "      <th>...</th>\n",
       "      <td>...</td>\n",
       "      <td>...</td>\n",
       "    </tr>\n",
       "    <tr>\n",
       "      <th>2058</th>\n",
       "      <td>2022-05-17</td>\n",
       "      <td>1.009189</td>\n",
       "    </tr>\n",
       "    <tr>\n",
       "      <th>2059</th>\n",
       "      <td>2022-05-18</td>\n",
       "      <td>1.002114</td>\n",
       "    </tr>\n",
       "    <tr>\n",
       "      <th>2060</th>\n",
       "      <td>2022-05-19</td>\n",
       "      <td>0.987190</td>\n",
       "    </tr>\n",
       "    <tr>\n",
       "      <th>2061</th>\n",
       "      <td>2022-05-20</td>\n",
       "      <td>1.018111</td>\n",
       "    </tr>\n",
       "    <tr>\n",
       "      <th>2062</th>\n",
       "      <td>2022-05-23</td>\n",
       "      <td>1.003065</td>\n",
       "    </tr>\n",
       "  </tbody>\n",
       "</table>\n",
       "<p>2063 rows × 2 columns</p>\n",
       "</div>"
      ],
      "text/plain": [
       "           Date    change\n",
       "0    2014-01-02  0.978049\n",
       "1    2014-01-03  0.989299\n",
       "2    2014-01-06  1.003669\n",
       "3    2014-01-07  1.003154\n",
       "4    2014-01-08  0.999755\n",
       "...         ...       ...\n",
       "2058 2022-05-17  1.009189\n",
       "2059 2022-05-18  1.002114\n",
       "2060 2022-05-19  0.987190\n",
       "2061 2022-05-20  1.018111\n",
       "2062 2022-05-23  1.003065\n",
       "\n",
       "[2063 rows x 2 columns]"
      ]
     },
     "execution_count": 152,
     "metadata": {},
     "output_type": "execute_result"
    }
   ],
   "source": [
    "sample"
   ]
  },
  {
   "cell_type": "code",
   "execution_count": 153,
   "id": "1d10f37d",
   "metadata": {},
   "outputs": [],
   "source": [
    "train = sample[data['Date'] < '2020-01-01'][['Date','change']]"
   ]
  },
  {
   "cell_type": "code",
   "execution_count": 154,
   "id": "5e236e5f",
   "metadata": {},
   "outputs": [],
   "source": [
    "test = sample[data['Date'] > '2020-01-01'][['Date','change']]"
   ]
  },
  {
   "cell_type": "code",
   "execution_count": 155,
   "id": "fdbf0ce4",
   "metadata": {},
   "outputs": [
    {
     "data": {
      "text/html": [
       "<div>\n",
       "<style scoped>\n",
       "    .dataframe tbody tr th:only-of-type {\n",
       "        vertical-align: middle;\n",
       "    }\n",
       "\n",
       "    .dataframe tbody tr th {\n",
       "        vertical-align: top;\n",
       "    }\n",
       "\n",
       "    .dataframe thead th {\n",
       "        text-align: right;\n",
       "    }\n",
       "</style>\n",
       "<table border=\"1\" class=\"dataframe\">\n",
       "  <thead>\n",
       "    <tr style=\"text-align: right;\">\n",
       "      <th></th>\n",
       "      <th>Date</th>\n",
       "      <th>change</th>\n",
       "    </tr>\n",
       "  </thead>\n",
       "  <tbody>\n",
       "    <tr>\n",
       "      <th>0</th>\n",
       "      <td>2014-01-02</td>\n",
       "      <td>0.978049</td>\n",
       "    </tr>\n",
       "    <tr>\n",
       "      <th>1</th>\n",
       "      <td>2014-01-03</td>\n",
       "      <td>0.989299</td>\n",
       "    </tr>\n",
       "    <tr>\n",
       "      <th>2</th>\n",
       "      <td>2014-01-06</td>\n",
       "      <td>1.003669</td>\n",
       "    </tr>\n",
       "    <tr>\n",
       "      <th>3</th>\n",
       "      <td>2014-01-07</td>\n",
       "      <td>1.003154</td>\n",
       "    </tr>\n",
       "    <tr>\n",
       "      <th>4</th>\n",
       "      <td>2014-01-08</td>\n",
       "      <td>0.999755</td>\n",
       "    </tr>\n",
       "    <tr>\n",
       "      <th>...</th>\n",
       "      <td>...</td>\n",
       "      <td>...</td>\n",
       "    </tr>\n",
       "    <tr>\n",
       "      <th>1467</th>\n",
       "      <td>2019-12-23</td>\n",
       "      <td>0.999787</td>\n",
       "    </tr>\n",
       "    <tr>\n",
       "      <th>1468</th>\n",
       "      <td>2019-12-24</td>\n",
       "      <td>0.993815</td>\n",
       "    </tr>\n",
       "    <tr>\n",
       "      <th>1469</th>\n",
       "      <td>2019-12-26</td>\n",
       "      <td>1.003584</td>\n",
       "    </tr>\n",
       "    <tr>\n",
       "      <th>1470</th>\n",
       "      <td>2019-12-27</td>\n",
       "      <td>1.002857</td>\n",
       "    </tr>\n",
       "    <tr>\n",
       "      <th>1471</th>\n",
       "      <td>2019-12-30</td>\n",
       "      <td>0.997033</td>\n",
       "    </tr>\n",
       "  </tbody>\n",
       "</table>\n",
       "<p>1472 rows × 2 columns</p>\n",
       "</div>"
      ],
      "text/plain": [
       "           Date    change\n",
       "0    2014-01-02  0.978049\n",
       "1    2014-01-03  0.989299\n",
       "2    2014-01-06  1.003669\n",
       "3    2014-01-07  1.003154\n",
       "4    2014-01-08  0.999755\n",
       "...         ...       ...\n",
       "1467 2019-12-23  0.999787\n",
       "1468 2019-12-24  0.993815\n",
       "1469 2019-12-26  1.003584\n",
       "1470 2019-12-27  1.002857\n",
       "1471 2019-12-30  0.997033\n",
       "\n",
       "[1472 rows x 2 columns]"
      ]
     },
     "execution_count": 155,
     "metadata": {},
     "output_type": "execute_result"
    }
   ],
   "source": [
    "train"
   ]
  },
  {
   "cell_type": "code",
   "execution_count": 156,
   "id": "4c85329f",
   "metadata": {},
   "outputs": [
    {
     "data": {
      "text/html": [
       "<div>\n",
       "<style scoped>\n",
       "    .dataframe tbody tr th:only-of-type {\n",
       "        vertical-align: middle;\n",
       "    }\n",
       "\n",
       "    .dataframe tbody tr th {\n",
       "        vertical-align: top;\n",
       "    }\n",
       "\n",
       "    .dataframe thead th {\n",
       "        text-align: right;\n",
       "    }\n",
       "</style>\n",
       "<table border=\"1\" class=\"dataframe\">\n",
       "  <thead>\n",
       "    <tr style=\"text-align: right;\">\n",
       "      <th></th>\n",
       "      <th>Date</th>\n",
       "      <th>change</th>\n",
       "    </tr>\n",
       "  </thead>\n",
       "  <tbody>\n",
       "    <tr>\n",
       "      <th>1472</th>\n",
       "      <td>2020-01-02</td>\n",
       "      <td>0.989762</td>\n",
       "    </tr>\n",
       "    <tr>\n",
       "      <th>1473</th>\n",
       "      <td>2020-01-03</td>\n",
       "      <td>1.000593</td>\n",
       "    </tr>\n",
       "    <tr>\n",
       "      <th>1474</th>\n",
       "      <td>2020-01-06</td>\n",
       "      <td>0.990172</td>\n",
       "    </tr>\n",
       "    <tr>\n",
       "      <th>1475</th>\n",
       "      <td>2020-01-07</td>\n",
       "      <td>1.009499</td>\n",
       "    </tr>\n",
       "    <tr>\n",
       "      <th>1476</th>\n",
       "      <td>2020-01-08</td>\n",
       "      <td>0.988863</td>\n",
       "    </tr>\n",
       "    <tr>\n",
       "      <th>...</th>\n",
       "      <td>...</td>\n",
       "      <td>...</td>\n",
       "    </tr>\n",
       "    <tr>\n",
       "      <th>2058</th>\n",
       "      <td>2022-05-17</td>\n",
       "      <td>1.009189</td>\n",
       "    </tr>\n",
       "    <tr>\n",
       "      <th>2059</th>\n",
       "      <td>2022-05-18</td>\n",
       "      <td>1.002114</td>\n",
       "    </tr>\n",
       "    <tr>\n",
       "      <th>2060</th>\n",
       "      <td>2022-05-19</td>\n",
       "      <td>0.987190</td>\n",
       "    </tr>\n",
       "    <tr>\n",
       "      <th>2061</th>\n",
       "      <td>2022-05-20</td>\n",
       "      <td>1.018111</td>\n",
       "    </tr>\n",
       "    <tr>\n",
       "      <th>2062</th>\n",
       "      <td>2022-05-23</td>\n",
       "      <td>1.003065</td>\n",
       "    </tr>\n",
       "  </tbody>\n",
       "</table>\n",
       "<p>591 rows × 2 columns</p>\n",
       "</div>"
      ],
      "text/plain": [
       "           Date    change\n",
       "1472 2020-01-02  0.989762\n",
       "1473 2020-01-03  1.000593\n",
       "1474 2020-01-06  0.990172\n",
       "1475 2020-01-07  1.009499\n",
       "1476 2020-01-08  0.988863\n",
       "...         ...       ...\n",
       "2058 2022-05-17  1.009189\n",
       "2059 2022-05-18  1.002114\n",
       "2060 2022-05-19  0.987190\n",
       "2061 2022-05-20  1.018111\n",
       "2062 2022-05-23  1.003065\n",
       "\n",
       "[591 rows x 2 columns]"
      ]
     },
     "execution_count": 156,
     "metadata": {},
     "output_type": "execute_result"
    }
   ],
   "source": [
    "test"
   ]
  },
  {
   "cell_type": "markdown",
   "id": "9ca66203",
   "metadata": {},
   "source": [
    "# auto-arima"
   ]
  },
  {
   "cell_type": "code",
   "execution_count": 157,
   "id": "fc70fcd9",
   "metadata": {},
   "outputs": [],
   "source": [
    "train_index = train.set_index('Date')"
   ]
  },
  {
   "cell_type": "code",
   "execution_count": 158,
   "id": "18a2defb",
   "metadata": {},
   "outputs": [],
   "source": [
    "test_index = test.set_index('Date')"
   ]
  },
  {
   "cell_type": "code",
   "execution_count": 159,
   "id": "a362c5c7",
   "metadata": {},
   "outputs": [],
   "source": [
    "model = pm.auto_arima(train_index['change'],\n",
    "                     start_p = 0,\n",
    "                     start_q = 0,\n",
    "                     d=1,\n",
    "                     max_p=5,\n",
    "                     max_q=5,\n",
    "                     m=1,\n",
    "                     stepwise=True,\n",
    "                     seasonal = False)"
   ]
  },
  {
   "cell_type": "code",
   "execution_count": 160,
   "id": "fbcb590b",
   "metadata": {
    "scrolled": false
   },
   "outputs": [
    {
     "data": {
      "text/html": [
       "<table class=\"simpletable\">\n",
       "<caption>SARIMAX Results</caption>\n",
       "<tr>\n",
       "  <th>Dep. Variable:</th>           <td>y</td>        <th>  No. Observations:  </th>    <td>1472</td>   \n",
       "</tr>\n",
       "<tr>\n",
       "  <th>Model:</th>           <td>SARIMAX(1, 1, 1)</td> <th>  Log Likelihood     </th>  <td>5090.489</td> \n",
       "</tr>\n",
       "<tr>\n",
       "  <th>Date:</th>            <td>Thu, 26 May 2022</td> <th>  AIC                </th> <td>-10172.979</td>\n",
       "</tr>\n",
       "<tr>\n",
       "  <th>Time:</th>                <td>16:33:20</td>     <th>  BIC                </th> <td>-10151.804</td>\n",
       "</tr>\n",
       "<tr>\n",
       "  <th>Sample:</th>                  <td>0</td>        <th>  HQIC               </th> <td>-10165.083</td>\n",
       "</tr>\n",
       "<tr>\n",
       "  <th></th>                      <td> - 1472</td>     <th>                     </th>      <td> </td>    \n",
       "</tr>\n",
       "<tr>\n",
       "  <th>Covariance Type:</th>        <td>opg</td>       <th>                     </th>      <td> </td>    \n",
       "</tr>\n",
       "</table>\n",
       "<table class=\"simpletable\">\n",
       "<tr>\n",
       "      <td></td>         <th>coef</th>     <th>std err</th>      <th>z</th>      <th>P>|z|</th>  <th>[0.025</th>    <th>0.975]</th>  \n",
       "</tr>\n",
       "<tr>\n",
       "  <th>intercept</th> <td>-1.691e-06</td> <td> 2.39e-06</td> <td>   -0.707</td> <td> 0.480</td> <td>-6.38e-06</td> <td>    3e-06</td>\n",
       "</tr>\n",
       "<tr>\n",
       "  <th>ar.L1</th>     <td>    0.0081</td> <td>    0.025</td> <td>    0.323</td> <td> 0.747</td> <td>   -0.041</td> <td>    0.057</td>\n",
       "</tr>\n",
       "<tr>\n",
       "  <th>ma.L1</th>     <td>   -0.9886</td> <td>    0.006</td> <td> -175.533</td> <td> 0.000</td> <td>   -1.000</td> <td>   -0.978</td>\n",
       "</tr>\n",
       "<tr>\n",
       "  <th>sigma2</th>    <td> 5.699e-05</td> <td> 1.51e-06</td> <td>   37.777</td> <td> 0.000</td> <td>  5.4e-05</td> <td>    6e-05</td>\n",
       "</tr>\n",
       "</table>\n",
       "<table class=\"simpletable\">\n",
       "<tr>\n",
       "  <th>Ljung-Box (L1) (Q):</th>     <td>0.20</td> <th>  Jarque-Bera (JB):  </th> <td>319.87</td>\n",
       "</tr>\n",
       "<tr>\n",
       "  <th>Prob(Q):</th>                <td>0.65</td> <th>  Prob(JB):          </th>  <td>0.00</td> \n",
       "</tr>\n",
       "<tr>\n",
       "  <th>Heteroskedasticity (H):</th> <td>1.37</td> <th>  Skew:              </th>  <td>-0.38</td>\n",
       "</tr>\n",
       "<tr>\n",
       "  <th>Prob(H) (two-sided):</th>    <td>0.00</td> <th>  Kurtosis:          </th>  <td>5.16</td> \n",
       "</tr>\n",
       "</table><br/><br/>Warnings:<br/>[1] Covariance matrix calculated using the outer product of gradients (complex-step)."
      ],
      "text/plain": [
       "<class 'statsmodels.iolib.summary.Summary'>\n",
       "\"\"\"\n",
       "                               SARIMAX Results                                \n",
       "==============================================================================\n",
       "Dep. Variable:                      y   No. Observations:                 1472\n",
       "Model:               SARIMAX(1, 1, 1)   Log Likelihood                5090.489\n",
       "Date:                Thu, 26 May 2022   AIC                         -10172.979\n",
       "Time:                        16:33:20   BIC                         -10151.804\n",
       "Sample:                             0   HQIC                        -10165.083\n",
       "                               - 1472                                         \n",
       "Covariance Type:                  opg                                         \n",
       "==============================================================================\n",
       "                 coef    std err          z      P>|z|      [0.025      0.975]\n",
       "------------------------------------------------------------------------------\n",
       "intercept  -1.691e-06   2.39e-06     -0.707      0.480   -6.38e-06       3e-06\n",
       "ar.L1          0.0081      0.025      0.323      0.747      -0.041       0.057\n",
       "ma.L1         -0.9886      0.006   -175.533      0.000      -1.000      -0.978\n",
       "sigma2      5.699e-05   1.51e-06     37.777      0.000     5.4e-05       6e-05\n",
       "===================================================================================\n",
       "Ljung-Box (L1) (Q):                   0.20   Jarque-Bera (JB):               319.87\n",
       "Prob(Q):                              0.65   Prob(JB):                         0.00\n",
       "Heteroskedasticity (H):               1.37   Skew:                            -0.38\n",
       "Prob(H) (two-sided):                  0.00   Kurtosis:                         5.16\n",
       "===================================================================================\n",
       "\n",
       "Warnings:\n",
       "[1] Covariance matrix calculated using the outer product of gradients (complex-step).\n",
       "\"\"\""
      ]
     },
     "execution_count": 160,
     "metadata": {},
     "output_type": "execute_result"
    }
   ],
   "source": [
    "model.summary()"
   ]
  },
  {
   "cell_type": "code",
   "execution_count": 161,
   "id": "d44cc7ac",
   "metadata": {},
   "outputs": [],
   "source": [
    "fcast = model.predict(591)"
   ]
  },
  {
   "cell_type": "code",
   "execution_count": 162,
   "id": "f73f5dda",
   "metadata": {},
   "outputs": [],
   "source": [
    "fcast = pd.Series(fcast, index = test_index.index)"
   ]
  },
  {
   "cell_type": "code",
   "execution_count": 163,
   "id": "395ff1dc",
   "metadata": {},
   "outputs": [
    {
     "data": {
      "text/plain": [
       "<matplotlib.legend.Legend at 0x1712bdf72e0>"
      ]
     },
     "execution_count": 163,
     "metadata": {},
     "output_type": "execute_result"
    },
    {
     "data": {
      "image/png": "[encoded data removed]",
      "text/plain": [
       "<Figure size 432x288 with 1 Axes>"
      ]
     },
     "metadata": {
      "needs_background": "light"
     },
     "output_type": "display_data"
    }
   ],
   "source": [
    "plt.plot(fcast, label = \"pre\")\n",
    "plt.plot(test_index, label = \"test\")\n",
    "plt.legend()"
   ]
  },
  {
   "cell_type": "code",
   "execution_count": 164,
   "id": "92d45ac9",
   "metadata": {},
   "outputs": [],
   "source": [
    "#prediction = []\n",
    "#for i in fcast:\n",
    "   # predict = model.predict(n_periods=1)[0]\n",
    "   # prediction.append(predict)\n",
    "   # model.update(i)"
   ]
  },
  {
   "cell_type": "code",
   "execution_count": 165,
   "id": "e9990133",
   "metadata": {},
   "outputs": [],
   "source": [
    "#train_index.plot()"
   ]
  },
  {
   "cell_type": "code",
   "execution_count": 166,
   "id": "15a050cc",
   "metadata": {},
   "outputs": [
    {
     "data": {
      "text/html": [
       "<div>\n",
       "<style scoped>\n",
       "    .dataframe tbody tr th:only-of-type {\n",
       "        vertical-align: middle;\n",
       "    }\n",
       "\n",
       "    .dataframe tbody tr th {\n",
       "        vertical-align: top;\n",
       "    }\n",
       "\n",
       "    .dataframe thead th {\n",
       "        text-align: right;\n",
       "    }\n",
       "</style>\n",
       "<table border=\"1\" class=\"dataframe\">\n",
       "  <thead>\n",
       "    <tr style=\"text-align: right;\">\n",
       "      <th></th>\n",
       "      <th>Date</th>\n",
       "      <th>change</th>\n",
       "    </tr>\n",
       "  </thead>\n",
       "  <tbody>\n",
       "    <tr>\n",
       "      <th>1472</th>\n",
       "      <td>2020-01-02</td>\n",
       "      <td>0.989762</td>\n",
       "    </tr>\n",
       "    <tr>\n",
       "      <th>1473</th>\n",
       "      <td>2020-01-03</td>\n",
       "      <td>1.000593</td>\n",
       "    </tr>\n",
       "    <tr>\n",
       "      <th>1474</th>\n",
       "      <td>2020-01-06</td>\n",
       "      <td>0.990172</td>\n",
       "    </tr>\n",
       "    <tr>\n",
       "      <th>1475</th>\n",
       "      <td>2020-01-07</td>\n",
       "      <td>1.009499</td>\n",
       "    </tr>\n",
       "    <tr>\n",
       "      <th>1476</th>\n",
       "      <td>2020-01-08</td>\n",
       "      <td>0.988863</td>\n",
       "    </tr>\n",
       "    <tr>\n",
       "      <th>...</th>\n",
       "      <td>...</td>\n",
       "      <td>...</td>\n",
       "    </tr>\n",
       "    <tr>\n",
       "      <th>2058</th>\n",
       "      <td>2022-05-17</td>\n",
       "      <td>1.009189</td>\n",
       "    </tr>\n",
       "    <tr>\n",
       "      <th>2059</th>\n",
       "      <td>2022-05-18</td>\n",
       "      <td>1.002114</td>\n",
       "    </tr>\n",
       "    <tr>\n",
       "      <th>2060</th>\n",
       "      <td>2022-05-19</td>\n",
       "      <td>0.987190</td>\n",
       "    </tr>\n",
       "    <tr>\n",
       "      <th>2061</th>\n",
       "      <td>2022-05-20</td>\n",
       "      <td>1.018111</td>\n",
       "    </tr>\n",
       "    <tr>\n",
       "      <th>2062</th>\n",
       "      <td>2022-05-23</td>\n",
       "      <td>1.003065</td>\n",
       "    </tr>\n",
       "  </tbody>\n",
       "</table>\n",
       "<p>591 rows × 2 columns</p>\n",
       "</div>"
      ],
      "text/plain": [
       "           Date    change\n",
       "1472 2020-01-02  0.989762\n",
       "1473 2020-01-03  1.000593\n",
       "1474 2020-01-06  0.990172\n",
       "1475 2020-01-07  1.009499\n",
       "1476 2020-01-08  0.988863\n",
       "...         ...       ...\n",
       "2058 2022-05-17  1.009189\n",
       "2059 2022-05-18  1.002114\n",
       "2060 2022-05-19  0.987190\n",
       "2061 2022-05-20  1.018111\n",
       "2062 2022-05-23  1.003065\n",
       "\n",
       "[591 rows x 2 columns]"
      ]
     },
     "execution_count": 166,
     "metadata": {},
     "output_type": "execute_result"
    }
   ],
   "source": [
    "test"
   ]
  },
  {
   "cell_type": "markdown",
   "id": "341d98e7",
   "metadata": {},
   "source": [
    "# arima"
   ]
  },
  {
   "cell_type": "code",
   "execution_count": 167,
   "id": "59ca8e61",
   "metadata": {},
   "outputs": [],
   "source": [
    "df.to_csv(\"kospi.csv\")"
   ]
  },
  {
   "cell_type": "code",
   "execution_count": 168,
   "id": "e05ffbfa",
   "metadata": {},
   "outputs": [],
   "source": [
    "df = pd.read_csv(\"kospi.csv\", encoding = \"cp949\")"
   ]
  },
  {
   "cell_type": "code",
   "execution_count": 169,
   "id": "4973b056",
   "metadata": {},
   "outputs": [],
   "source": [
    "a = df[['Date','Close']]"
   ]
  },
  {
   "cell_type": "code",
   "execution_count": 170,
   "id": "68e96e4c",
   "metadata": {},
   "outputs": [
    {
     "data": {
      "text/html": [
       "<div>\n",
       "<style scoped>\n",
       "    .dataframe tbody tr th:only-of-type {\n",
       "        vertical-align: middle;\n",
       "    }\n",
       "\n",
       "    .dataframe tbody tr th {\n",
       "        vertical-align: top;\n",
       "    }\n",
       "\n",
       "    .dataframe thead th {\n",
       "        text-align: right;\n",
       "    }\n",
       "</style>\n",
       "<table border=\"1\" class=\"dataframe\">\n",
       "  <thead>\n",
       "    <tr style=\"text-align: right;\">\n",
       "      <th></th>\n",
       "      <th>Date</th>\n",
       "      <th>Close</th>\n",
       "    </tr>\n",
       "  </thead>\n",
       "  <tbody>\n",
       "    <tr>\n",
       "      <th>0</th>\n",
       "      <td>2014-01-02</td>\n",
       "      <td>1967.19</td>\n",
       "    </tr>\n",
       "    <tr>\n",
       "      <th>1</th>\n",
       "      <td>2014-01-03</td>\n",
       "      <td>1946.14</td>\n",
       "    </tr>\n",
       "    <tr>\n",
       "      <th>2</th>\n",
       "      <td>2014-01-06</td>\n",
       "      <td>1953.28</td>\n",
       "    </tr>\n",
       "    <tr>\n",
       "      <th>3</th>\n",
       "      <td>2014-01-07</td>\n",
       "      <td>1959.44</td>\n",
       "    </tr>\n",
       "    <tr>\n",
       "      <th>4</th>\n",
       "      <td>2014-01-08</td>\n",
       "      <td>1958.96</td>\n",
       "    </tr>\n",
       "    <tr>\n",
       "      <th>...</th>\n",
       "      <td>...</td>\n",
       "      <td>...</td>\n",
       "    </tr>\n",
       "    <tr>\n",
       "      <th>2058</th>\n",
       "      <td>2022-05-17</td>\n",
       "      <td>2620.44</td>\n",
       "    </tr>\n",
       "    <tr>\n",
       "      <th>2059</th>\n",
       "      <td>2022-05-18</td>\n",
       "      <td>2625.98</td>\n",
       "    </tr>\n",
       "    <tr>\n",
       "      <th>2060</th>\n",
       "      <td>2022-05-19</td>\n",
       "      <td>2592.34</td>\n",
       "    </tr>\n",
       "    <tr>\n",
       "      <th>2061</th>\n",
       "      <td>2022-05-20</td>\n",
       "      <td>2639.29</td>\n",
       "    </tr>\n",
       "    <tr>\n",
       "      <th>2062</th>\n",
       "      <td>2022-05-23</td>\n",
       "      <td>2647.38</td>\n",
       "    </tr>\n",
       "  </tbody>\n",
       "</table>\n",
       "<p>2063 rows × 2 columns</p>\n",
       "</div>"
      ],
      "text/plain": [
       "            Date    Close\n",
       "0     2014-01-02  1967.19\n",
       "1     2014-01-03  1946.14\n",
       "2     2014-01-06  1953.28\n",
       "3     2014-01-07  1959.44\n",
       "4     2014-01-08  1958.96\n",
       "...          ...      ...\n",
       "2058  2022-05-17  2620.44\n",
       "2059  2022-05-18  2625.98\n",
       "2060  2022-05-19  2592.34\n",
       "2061  2022-05-20  2639.29\n",
       "2062  2022-05-23  2647.38\n",
       "\n",
       "[2063 rows x 2 columns]"
      ]
     },
     "execution_count": 170,
     "metadata": {},
     "output_type": "execute_result"
    }
   ],
   "source": [
    "a"
   ]
  },
  {
   "cell_type": "code",
   "execution_count": 171,
   "id": "e96a90d2",
   "metadata": {},
   "outputs": [],
   "source": [
    "a = a.rename(columns={'Close':'today'})\n",
    "a['yesterday'] = a['today'].shift()"
   ]
  },
  {
   "cell_type": "code",
   "execution_count": 172,
   "id": "a95e3f94",
   "metadata": {},
   "outputs": [],
   "source": [
    "a['yesterday'][0] = 2011.34"
   ]
  },
  {
   "cell_type": "code",
   "execution_count": 173,
   "id": "ea1bea23",
   "metadata": {},
   "outputs": [],
   "source": [
    "a['change'] = a['today']/a['yesterday']"
   ]
  },
  {
   "cell_type": "code",
   "execution_count": 174,
   "id": "8a1bdbe2",
   "metadata": {},
   "outputs": [],
   "source": [
    "a = a[['Date','change']]"
   ]
  },
  {
   "cell_type": "code",
   "execution_count": 175,
   "id": "df3c5c7c",
   "metadata": {},
   "outputs": [
    {
     "data": {
      "text/html": [
       "<div>\n",
       "<style scoped>\n",
       "    .dataframe tbody tr th:only-of-type {\n",
       "        vertical-align: middle;\n",
       "    }\n",
       "\n",
       "    .dataframe tbody tr th {\n",
       "        vertical-align: top;\n",
       "    }\n",
       "\n",
       "    .dataframe thead th {\n",
       "        text-align: right;\n",
       "    }\n",
       "</style>\n",
       "<table border=\"1\" class=\"dataframe\">\n",
       "  <thead>\n",
       "    <tr style=\"text-align: right;\">\n",
       "      <th></th>\n",
       "      <th>Date</th>\n",
       "      <th>change</th>\n",
       "    </tr>\n",
       "  </thead>\n",
       "  <tbody>\n",
       "    <tr>\n",
       "      <th>0</th>\n",
       "      <td>2014-01-02</td>\n",
       "      <td>0.978049</td>\n",
       "    </tr>\n",
       "    <tr>\n",
       "      <th>1</th>\n",
       "      <td>2014-01-03</td>\n",
       "      <td>0.989299</td>\n",
       "    </tr>\n",
       "    <tr>\n",
       "      <th>2</th>\n",
       "      <td>2014-01-06</td>\n",
       "      <td>1.003669</td>\n",
       "    </tr>\n",
       "    <tr>\n",
       "      <th>3</th>\n",
       "      <td>2014-01-07</td>\n",
       "      <td>1.003154</td>\n",
       "    </tr>\n",
       "    <tr>\n",
       "      <th>4</th>\n",
       "      <td>2014-01-08</td>\n",
       "      <td>0.999755</td>\n",
       "    </tr>\n",
       "    <tr>\n",
       "      <th>...</th>\n",
       "      <td>...</td>\n",
       "      <td>...</td>\n",
       "    </tr>\n",
       "    <tr>\n",
       "      <th>2058</th>\n",
       "      <td>2022-05-17</td>\n",
       "      <td>1.009189</td>\n",
       "    </tr>\n",
       "    <tr>\n",
       "      <th>2059</th>\n",
       "      <td>2022-05-18</td>\n",
       "      <td>1.002114</td>\n",
       "    </tr>\n",
       "    <tr>\n",
       "      <th>2060</th>\n",
       "      <td>2022-05-19</td>\n",
       "      <td>0.987190</td>\n",
       "    </tr>\n",
       "    <tr>\n",
       "      <th>2061</th>\n",
       "      <td>2022-05-20</td>\n",
       "      <td>1.018111</td>\n",
       "    </tr>\n",
       "    <tr>\n",
       "      <th>2062</th>\n",
       "      <td>2022-05-23</td>\n",
       "      <td>1.003065</td>\n",
       "    </tr>\n",
       "  </tbody>\n",
       "</table>\n",
       "<p>2063 rows × 2 columns</p>\n",
       "</div>"
      ],
      "text/plain": [
       "            Date    change\n",
       "0     2014-01-02  0.978049\n",
       "1     2014-01-03  0.989299\n",
       "2     2014-01-06  1.003669\n",
       "3     2014-01-07  1.003154\n",
       "4     2014-01-08  0.999755\n",
       "...          ...       ...\n",
       "2058  2022-05-17  1.009189\n",
       "2059  2022-05-18  1.002114\n",
       "2060  2022-05-19  0.987190\n",
       "2061  2022-05-20  1.018111\n",
       "2062  2022-05-23  1.003065\n",
       "\n",
       "[2063 rows x 2 columns]"
      ]
     },
     "execution_count": 175,
     "metadata": {},
     "output_type": "execute_result"
    }
   ],
   "source": [
    "a"
   ]
  },
  {
   "cell_type": "code",
   "execution_count": 176,
   "id": "7f164656",
   "metadata": {},
   "outputs": [],
   "source": [
    "from statsmodels.tsa.arima_model import ARIMA"
   ]
  },
  {
   "cell_type": "code",
   "execution_count": 177,
   "id": "2f1313f5",
   "metadata": {},
   "outputs": [],
   "source": [
    "change = ARIMA(a[['change']], order = (1,1,1))"
   ]
  },
  {
   "cell_type": "code",
   "execution_count": 178,
   "id": "e1bef5ec",
   "metadata": {},
   "outputs": [],
   "source": [
    "change_fit = change.fit(trend = 'c', full_output = True, disp = 1)"
   ]
  },
  {
   "cell_type": "code",
   "execution_count": 179,
   "id": "b9e5c55a",
   "metadata": {},
   "outputs": [
    {
     "name": "stdout",
     "output_type": "stream",
     "text": [
      "                             ARIMA Model Results                              \n",
      "==============================================================================\n",
      "Dep. Variable:               D.change   No. Observations:                 2062\n",
      "Model:                 ARIMA(1, 1, 1)   Log Likelihood                6582.140\n",
      "Method:                       css-mle   S.D. of innovations              0.010\n",
      "Date:                Thu, 26 May 2022   AIC                         -13156.281\n",
      "Time:                        16:33:21   BIC                         -13133.755\n",
      "Sample:                             1   HQIC                        -13148.022\n",
      "                                                                              \n",
      "==================================================================================\n",
      "                     coef    std err          z      P>|z|      [0.025      0.975]\n",
      "----------------------------------------------------------------------------------\n",
      "const            2.41e-08   5.36e-06      0.004      0.996   -1.05e-05    1.05e-05\n",
      "ar.L1.D.change     0.0050      0.017      0.292      0.771      -0.028       0.038\n",
      "ma.L1.D.change    -0.9759        nan        nan        nan         nan         nan\n",
      "                                    Roots                                    \n",
      "=============================================================================\n",
      "                  Real          Imaginary           Modulus         Frequency\n",
      "-----------------------------------------------------------------------------\n",
      "AR.1          201.7752           +0.0000j          201.7752            0.0000\n",
      "MA.1            1.0247           +0.0000j            1.0247            0.0000\n",
      "-----------------------------------------------------------------------------\n"
     ]
    }
   ],
   "source": [
    "print(change_fit.summary())"
   ]
  },
  {
   "cell_type": "code",
   "execution_count": 180,
   "id": "f7af36ce",
   "metadata": {},
   "outputs": [
    {
     "data": {
      "image/png": "[encoded data removed]",
      "text/plain": [
       "<Figure size 432x288 with 1 Axes>"
      ]
     },
     "execution_count": 180,
     "metadata": {},
     "output_type": "execute_result"
    },
    {
     "data": {
      "image/png": "[encoded data removed]",
      "text/plain": [
       "<Figure size 432x288 with 1 Axes>"
      ]
     },
     "metadata": {
      "needs_background": "light"
     },
     "output_type": "display_data"
    }
   ],
   "source": [
    "change_fit.plot_predict()"
   ]
  },
  {
   "cell_type": "code",
   "execution_count": 181,
   "id": "0d1263a0",
   "metadata": {},
   "outputs": [
    {
     "name": "stdout",
     "output_type": "stream",
     "text": [
      "                              ARMA Model Results                              \n",
      "==============================================================================\n",
      "Dep. Variable:                 change   No. Observations:                 2063\n",
      "Model:                     ARMA(0, 2)   Log Likelihood                -298.250\n",
      "Method:                       css-mle   S.D. of innovations              0.279\n",
      "Date:                Thu, 26 May 2022   AIC                            602.501\n",
      "Time:                        16:33:22   BIC                            619.396\n",
      "Sample:                             0   HQIC                           608.695\n",
      "                                                                              \n",
      "================================================================================\n",
      "                   coef    std err          z      P>|z|      [0.025      0.975]\n",
      "--------------------------------------------------------------------------------\n",
      "ma.L1.change     1.7900      0.006    281.899      0.000       1.778       1.802\n",
      "ma.L2.change     0.9392      0.006    145.061      0.000       0.926       0.952\n",
      "                                    Roots                                    \n",
      "=============================================================================\n",
      "                  Real          Imaginary           Modulus         Frequency\n",
      "-----------------------------------------------------------------------------\n",
      "MA.1           -0.9530           -0.3957j            1.0319           -0.4374\n",
      "MA.2           -0.9530           +0.3957j            1.0319            0.4374\n",
      "-----------------------------------------------------------------------------\n"
     ]
    }
   ],
   "source": [
    "change = ARIMA(a['change'], order = (0,0,2))\n",
    "change_fit = change.fit(trend = 'nc', full_output = True, disp = 1)\n",
    "print(change_fit.summary())"
   ]
  },
  {
   "cell_type": "code",
   "execution_count": 182,
   "id": "2f601d4f",
   "metadata": {},
   "outputs": [
    {
     "data": {
      "image/png": "[encoded data removed]",
      "text/plain": [
       "<Figure size 432x288 with 1 Axes>"
      ]
     },
     "metadata": {
      "needs_background": "light"
     },
     "output_type": "display_data"
    }
   ],
   "source": [
    "change_fit.plot_predict()\n",
    "plt.show()"
   ]
  },
  {
   "cell_type": "markdown",
   "id": "ec414160",
   "metadata": {},
   "source": [
    "# 새로"
   ]
  },
  {
   "cell_type": "code",
   "execution_count": 183,
   "id": "2a3c33e2",
   "metadata": {},
   "outputs": [
    {
     "data": {
      "text/html": [
       "<div>\n",
       "<style scoped>\n",
       "    .dataframe tbody tr th:only-of-type {\n",
       "        vertical-align: middle;\n",
       "    }\n",
       "\n",
       "    .dataframe tbody tr th {\n",
       "        vertical-align: top;\n",
       "    }\n",
       "\n",
       "    .dataframe thead th {\n",
       "        text-align: right;\n",
       "    }\n",
       "</style>\n",
       "<table border=\"1\" class=\"dataframe\">\n",
       "  <thead>\n",
       "    <tr style=\"text-align: right;\">\n",
       "      <th></th>\n",
       "      <th>Date</th>\n",
       "      <th>change</th>\n",
       "    </tr>\n",
       "  </thead>\n",
       "  <tbody>\n",
       "    <tr>\n",
       "      <th>0</th>\n",
       "      <td>2014-01-02</td>\n",
       "      <td>0.978049</td>\n",
       "    </tr>\n",
       "    <tr>\n",
       "      <th>1</th>\n",
       "      <td>2014-01-03</td>\n",
       "      <td>0.989299</td>\n",
       "    </tr>\n",
       "    <tr>\n",
       "      <th>2</th>\n",
       "      <td>2014-01-06</td>\n",
       "      <td>1.003669</td>\n",
       "    </tr>\n",
       "    <tr>\n",
       "      <th>3</th>\n",
       "      <td>2014-01-07</td>\n",
       "      <td>1.003154</td>\n",
       "    </tr>\n",
       "    <tr>\n",
       "      <th>4</th>\n",
       "      <td>2014-01-08</td>\n",
       "      <td>0.999755</td>\n",
       "    </tr>\n",
       "    <tr>\n",
       "      <th>...</th>\n",
       "      <td>...</td>\n",
       "      <td>...</td>\n",
       "    </tr>\n",
       "    <tr>\n",
       "      <th>2058</th>\n",
       "      <td>2022-05-17</td>\n",
       "      <td>1.009189</td>\n",
       "    </tr>\n",
       "    <tr>\n",
       "      <th>2059</th>\n",
       "      <td>2022-05-18</td>\n",
       "      <td>1.002114</td>\n",
       "    </tr>\n",
       "    <tr>\n",
       "      <th>2060</th>\n",
       "      <td>2022-05-19</td>\n",
       "      <td>0.987190</td>\n",
       "    </tr>\n",
       "    <tr>\n",
       "      <th>2061</th>\n",
       "      <td>2022-05-20</td>\n",
       "      <td>1.018111</td>\n",
       "    </tr>\n",
       "    <tr>\n",
       "      <th>2062</th>\n",
       "      <td>2022-05-23</td>\n",
       "      <td>1.003065</td>\n",
       "    </tr>\n",
       "  </tbody>\n",
       "</table>\n",
       "<p>2063 rows × 2 columns</p>\n",
       "</div>"
      ],
      "text/plain": [
       "            Date    change\n",
       "0     2014-01-02  0.978049\n",
       "1     2014-01-03  0.989299\n",
       "2     2014-01-06  1.003669\n",
       "3     2014-01-07  1.003154\n",
       "4     2014-01-08  0.999755\n",
       "...          ...       ...\n",
       "2058  2022-05-17  1.009189\n",
       "2059  2022-05-18  1.002114\n",
       "2060  2022-05-19  0.987190\n",
       "2061  2022-05-20  1.018111\n",
       "2062  2022-05-23  1.003065\n",
       "\n",
       "[2063 rows x 2 columns]"
      ]
     },
     "execution_count": 183,
     "metadata": {},
     "output_type": "execute_result"
    }
   ],
   "source": [
    "a"
   ]
  },
  {
   "cell_type": "code",
   "execution_count": 184,
   "id": "b9d12996",
   "metadata": {},
   "outputs": [],
   "source": [
    "a['Date'] = pd.to_datetime(a['Date'])"
   ]
  },
  {
   "cell_type": "code",
   "execution_count": 185,
   "id": "ab20b9ad",
   "metadata": {},
   "outputs": [],
   "source": [
    "a = a.set_index('Date')"
   ]
  },
  {
   "cell_type": "code",
   "execution_count": 186,
   "id": "bcac0328",
   "metadata": {},
   "outputs": [
    {
     "data": {
      "text/plain": [
       "<AxesSubplot:xlabel='Date'>"
      ]
     },
     "execution_count": 186,
     "metadata": {},
     "output_type": "execute_result"
    },
    {
     "data": {
      "image/png": "[encoded data removed]",
      "text/plain": [
       "<Figure size 432x288 with 1 Axes>"
      ]
     },
     "metadata": {
      "needs_background": "light"
     },
     "output_type": "display_data"
    }
   ],
   "source": [
    "train = a['change'][:int(0.8*len(a))]\n",
    "test = a['change'][int(0.8*len(a)):]\n",
    "train.plot()\n",
    "test.plot()"
   ]
  },
  {
   "cell_type": "code",
   "execution_count": 187,
   "id": "58636702",
   "metadata": {},
   "outputs": [],
   "source": [
    "real = a['change'][0:int(len(a))]"
   ]
  },
  {
   "cell_type": "code",
   "execution_count": 188,
   "id": "415b6f03",
   "metadata": {},
   "outputs": [
    {
     "name": "stdout",
     "output_type": "stream",
     "text": [
      "Performing stepwise search to minimize aic\n",
      " ARIMA(0,1,0)(0,0,0)[0] intercept   : AIC=-9447.064, Time=0.23 sec\n",
      " ARIMA(1,1,0)(0,0,0)[0] intercept   : AIC=-10094.647, Time=0.12 sec\n",
      " ARIMA(0,1,1)(0,0,0)[0] intercept   : AIC=-10465.155, Time=0.32 sec\n",
      " ARIMA(0,1,0)(0,0,0)[0]             : AIC=-9449.062, Time=0.10 sec\n",
      " ARIMA(1,1,1)(0,0,0)[0] intercept   : AIC=-10595.323, Time=1.66 sec\n",
      " ARIMA(2,1,1)(0,0,0)[0] intercept   : AIC=-10548.786, Time=1.46 sec\n",
      " ARIMA(1,1,2)(0,0,0)[0] intercept   : AIC=-10513.290, Time=0.96 sec\n",
      " ARIMA(0,1,2)(0,0,0)[0] intercept   : AIC=-10597.159, Time=1.50 sec\n",
      " ARIMA(0,1,3)(0,0,0)[0] intercept   : AIC=-10528.703, Time=0.75 sec\n",
      " ARIMA(1,1,3)(0,0,0)[0] intercept   : AIC=inf, Time=2.27 sec\n",
      " ARIMA(0,1,2)(0,0,0)[0]             : AIC=inf, Time=0.56 sec\n",
      "\n",
      "Best model:  ARIMA(0,1,2)(0,0,0)[0] intercept\n",
      "Total fit time: 9.925 seconds\n"
     ]
    }
   ],
   "source": [
    "model = pm.auto_arima(y = train       \n",
    "                      , d = 1            \n",
    "                      , start_p = 0 \n",
    "                      , max_p = 3   \n",
    "                      , start_q = 0 \n",
    "                      , max_q = 3          \n",
    "                      , seasonal = False \n",
    "                      , stepwise = True\n",
    "                      , trace=True\n",
    "                      )"
   ]
  },
  {
   "cell_type": "code",
   "execution_count": 189,
   "id": "b0031f90",
   "metadata": {},
   "outputs": [
    {
     "name": "stdout",
     "output_type": "stream",
     "text": [
      "                               SARIMAX Results                                \n",
      "==============================================================================\n",
      "Dep. Variable:                      y   No. Observations:                 1650\n",
      "Model:               SARIMAX(0, 1, 2)   Log Likelihood                5302.580\n",
      "Date:                Thu, 26 May 2022   AIC                         -10597.159\n",
      "Time:                        16:33:32   BIC                         -10575.527\n",
      "Sample:                             0   HQIC                        -10589.139\n",
      "                               - 1650                                         \n",
      "Covariance Type:                  opg                                         \n",
      "==============================================================================\n",
      "                 coef    std err          z      P>|z|      [0.025      0.975]\n",
      "------------------------------------------------------------------------------\n",
      "intercept   -1.02e-06   2.74e-06     -0.373      0.710   -6.39e-06    4.35e-06\n",
      "ma.L1         -0.9968      0.008   -120.311      0.000      -1.013      -0.981\n",
      "ma.L2          0.0069      0.009      0.791      0.429      -0.010       0.024\n",
      "sigma2      9.467e-05   1.28e-06     73.914      0.000    9.22e-05    9.72e-05\n",
      "===================================================================================\n",
      "Ljung-Box (L1) (Q):                   0.23   Jarque-Bera (JB):             11657.43\n",
      "Prob(Q):                              0.63   Prob(JB):                         0.00\n",
      "Heteroskedasticity (H):               3.09   Skew:                             0.06\n",
      "Prob(H) (two-sided):                  0.00   Kurtosis:                        16.02\n",
      "===================================================================================\n",
      "\n",
      "Warnings:\n",
      "[1] Covariance matrix calculated using the outer product of gradients (complex-step).\n"
     ]
    }
   ],
   "source": [
    "print(model.summary())"
   ]
  },
  {
   "cell_type": "code",
   "execution_count": 190,
   "id": "b5cdbf12",
   "metadata": {},
   "outputs": [
    {
     "data": {
      "image/png": "[encoded data removed]",
      "text/plain": [
       "<Figure size 1152x576 with 4 Axes>"
      ]
     },
     "metadata": {
      "needs_background": "light"
     },
     "output_type": "display_data"
    }
   ],
   "source": [
    "model.plot_diagnostics(figsize=(16, 8))\n",
    "plt.show()"
   ]
  },
  {
   "cell_type": "code",
   "execution_count": 191,
   "id": "85cff98b",
   "metadata": {},
   "outputs": [],
   "source": [
    "y_predict = model.predict(n_periods = len(test))\n",
    "y_predict = pd.DataFrame(y_predict, index = test.index, columns = ['predict'])"
   ]
  },
  {
   "cell_type": "code",
   "execution_count": 192,
   "id": "4997a58b",
   "metadata": {},
   "outputs": [
    {
     "data": {
      "image/png": "[encoded data removed]",
      "text/plain": [
       "<Figure size 864x288 with 1 Axes>"
      ]
     },
     "metadata": {
      "needs_background": "light"
     },
     "output_type": "display_data"
    }
   ],
   "source": [
    "fig, axes = plt.subplots(1,1, figsize = (12,4))\n",
    "plt.plot(train, label = 'Train')\n",
    "plt.plot(test, label = 'Test')\n",
    "plt.plot(y_predict, label = 'prediction')\n",
    "plt.legend()\n",
    "plt.show()"
   ]
  },
  {
   "cell_type": "code",
   "execution_count": 193,
   "id": "5a987232",
   "metadata": {},
   "outputs": [],
   "source": [
    "def forecast_one_step():\n",
    "    fc, conf_int = model.predict(n_periods=1 \n",
    "        , return_conf_int=True)              \n",
    "    return (\n",
    "        fc.tolist()[0],\n",
    "        np.asarray(conf_int).tolist()[0]\n",
    "    )"
   ]
  },
  {
   "cell_type": "code",
   "execution_count": 194,
   "id": "43a2c68a",
   "metadata": {},
   "outputs": [],
   "source": [
    "forecasts = []\n",
    "y_pred = []\n",
    "pred_upper = []\n",
    "pred_lower = []\n",
    "\n",
    "for new_ob in test:\n",
    "    fc, conf = forecast_one_step()\n",
    "    y_pred.append(fc)\n",
    "    pred_upper.append(conf[1])\n",
    "    pred_lower.append(conf[0])\n",
    "    \n",
    "    model.update(new_ob) # 모형 업데이트"
   ]
  },
  {
   "cell_type": "code",
   "execution_count": 195,
   "id": "e0a44a5b",
   "metadata": {},
   "outputs": [
    {
     "data": {
      "text/html": [
       "<div>\n",
       "<style scoped>\n",
       "    .dataframe tbody tr th:only-of-type {\n",
       "        vertical-align: middle;\n",
       "    }\n",
       "\n",
       "    .dataframe tbody tr th {\n",
       "        vertical-align: top;\n",
       "    }\n",
       "\n",
       "    .dataframe thead th {\n",
       "        text-align: right;\n",
       "    }\n",
       "</style>\n",
       "<table border=\"1\" class=\"dataframe\">\n",
       "  <thead>\n",
       "    <tr style=\"text-align: right;\">\n",
       "      <th></th>\n",
       "      <th>test</th>\n",
       "      <th>pred</th>\n",
       "    </tr>\n",
       "    <tr>\n",
       "      <th>Date</th>\n",
       "      <th></th>\n",
       "      <th></th>\n",
       "    </tr>\n",
       "  </thead>\n",
       "  <tbody>\n",
       "    <tr>\n",
       "      <th>2020-09-17</th>\n",
       "      <td>0.987787</td>\n",
       "      <td>1.001365</td>\n",
       "    </tr>\n",
       "    <tr>\n",
       "      <th>2020-09-18</th>\n",
       "      <td>1.002589</td>\n",
       "      <td>1.001290</td>\n",
       "    </tr>\n",
       "    <tr>\n",
       "      <th>2020-09-21</th>\n",
       "      <td>0.990462</td>\n",
       "      <td>1.001200</td>\n",
       "    </tr>\n",
       "    <tr>\n",
       "      <th>2020-09-22</th>\n",
       "      <td>0.976228</td>\n",
       "      <td>1.001173</td>\n",
       "    </tr>\n",
       "    <tr>\n",
       "      <th>2020-09-23</th>\n",
       "      <td>1.000279</td>\n",
       "      <td>1.001018</td>\n",
       "    </tr>\n",
       "    <tr>\n",
       "      <th>...</th>\n",
       "      <td>...</td>\n",
       "      <td>...</td>\n",
       "    </tr>\n",
       "    <tr>\n",
       "      <th>2022-05-17</th>\n",
       "      <td>1.009189</td>\n",
       "      <td>0.999094</td>\n",
       "    </tr>\n",
       "    <tr>\n",
       "      <th>2022-05-18</th>\n",
       "      <td>1.002114</td>\n",
       "      <td>0.999113</td>\n",
       "    </tr>\n",
       "    <tr>\n",
       "      <th>2022-05-19</th>\n",
       "      <td>0.987190</td>\n",
       "      <td>0.999190</td>\n",
       "    </tr>\n",
       "    <tr>\n",
       "      <th>2022-05-20</th>\n",
       "      <td>1.018111</td>\n",
       "      <td>0.999171</td>\n",
       "    </tr>\n",
       "    <tr>\n",
       "      <th>2022-05-23</th>\n",
       "      <td>1.003065</td>\n",
       "      <td>0.999149</td>\n",
       "    </tr>\n",
       "  </tbody>\n",
       "</table>\n",
       "<p>413 rows × 2 columns</p>\n",
       "</div>"
      ],
      "text/plain": [
       "                test      pred\n",
       "Date                          \n",
       "2020-09-17  0.987787  1.001365\n",
       "2020-09-18  1.002589  1.001290\n",
       "2020-09-21  0.990462  1.001200\n",
       "2020-09-22  0.976228  1.001173\n",
       "2020-09-23  1.000279  1.001018\n",
       "...              ...       ...\n",
       "2022-05-17  1.009189  0.999094\n",
       "2022-05-18  1.002114  0.999113\n",
       "2022-05-19  0.987190  0.999190\n",
       "2022-05-20  1.018111  0.999171\n",
       "2022-05-23  1.003065  0.999149\n",
       "\n",
       "[413 rows x 2 columns]"
      ]
     },
     "execution_count": 195,
     "metadata": {},
     "output_type": "execute_result"
    }
   ],
   "source": [
    "pd.DataFrame({\"test\":test,\"pred\":y_pred})"
   ]
  },
  {
   "cell_type": "code",
   "execution_count": 196,
   "id": "2d62ed62",
   "metadata": {},
   "outputs": [],
   "source": [
    "# !pip install plotly==5.4.0"
   ]
  },
  {
   "cell_type": "code",
   "execution_count": 197,
   "id": "87610f03",
   "metadata": {},
   "outputs": [],
   "source": [
    "from plotly.subplots import make_subplots\n",
    "import plotly.graph_objects as go"
   ]
  },
  {
   "cell_type": "code",
   "execution_count": 1,
   "id": "a9a29caa",
   "metadata": {
    "scrolled": false
   },
   "outputs": [
    {
     "ename": "NameError",
     "evalue": "name 'go' is not defined",
     "output_type": "error",
     "traceback": [
      "\u001b[1;31m---------------------------------------------------------------------------\u001b[0m",
      "\u001b[1;31mNameError\u001b[0m                                 Traceback (most recent call last)",
      "\u001b[1;32m~\\AppData\\Local\\Temp/ipykernel_2520/2153432199.py\u001b[0m in \u001b[0;36m<module>\u001b[1;34m\u001b[0m\n\u001b[1;32m----> 1\u001b[1;33m fig = go.Figure([\n\u001b[0m\u001b[0;32m      2\u001b[0m     \u001b[1;31m# 훈련 데이터-------------------------------------------------------\u001b[0m\u001b[1;33m\u001b[0m\u001b[1;33m\u001b[0m\u001b[0m\n\u001b[0;32m      3\u001b[0m     go.Scatter(x = train.index, y = train, name = \"Train\", mode = 'lines'\n\u001b[0;32m      4\u001b[0m               ,line=dict(color = 'royalblue'))\n\u001b[0;32m      5\u001b[0m     \u001b[1;31m# 테스트 데이터------------------------------------------------------\u001b[0m\u001b[1;33m\u001b[0m\u001b[1;33m\u001b[0m\u001b[0m\n",
      "\u001b[1;31mNameError\u001b[0m: name 'go' is not defined"
     ]
    }
   ],
   "source": [
    "fig = go.Figure([\n",
    "    # 훈련 데이터-------------------------------------------------------\n",
    "    go.Scatter(x = train.index, y = train, name = \"Train\", mode = 'lines'\n",
    "              ,line=dict(color = 'royalblue'))\n",
    "    # 테스트 데이터------------------------------------------------------\n",
    "    , go.Scatter(x = test.index, y = test, name = \"Test\", mode = 'lines'\n",
    "                ,line = dict(color = 'rgba(0,0,30,0.5)'))\n",
    "    # 예측값-----------------------------------------------------------\n",
    "    , go.Scatter(x = test.index, y = y_pred, name = \"Prediction\", mode = 'lines'\n",
    "                     ,line = dict(color = 'red', dash = 'dot', width=3))\n",
    "    # 신뢰 구간---------------------------------------------------------\n",
    "    , go.Scatter(x = test.index.tolist() + test.index[::-1].tolist() \n",
    "                ,y = pred_upper + pred_lower[::-1] ## 상위 신뢰 구간 -> 하위 신뢰 구간 역순으로\n",
    "                ,fill='toself'\n",
    "                ,fillcolor='rgba(0,0,30,0.1)'\n",
    "                ,line=dict(color='rgba(0,0,0,0)')\n",
    "                ,hoverinfo=\"skip\"\n",
    "                ,showlegend=False)\n",
    "    \n",
    "])\n",
    "\n",
    "fig.update_layout(height=400, width=1000, title_text=\"ARIMA(0,1,2)모형\")\n",
    "fig.show()"
   ]
  },
  {
   "cell_type": "code",
   "execution_count": 168,
   "id": "277463a0",
   "metadata": {},
   "outputs": [
    {
     "name": "stdout",
     "output_type": "stream",
     "text": [
      "MAPE: 0.827\n"
     ]
    }
   ],
   "source": [
    "def MAPE(test, y_pred):\n",
    "\treturn np.mean(np.abs((test - y_pred) / test)) * 100 \n",
    "    \n",
    "print(f\"MAPE: {MAPE(test, y_pred):.3f}\")"
   ]
  },
  {
   "cell_type": "markdown",
   "id": "0351272d",
   "metadata": {},
   "source": [
    "# MA(2)"
   ]
  },
  {
   "cell_type": "code",
   "execution_count": 169,
   "id": "f77d7947",
   "metadata": {},
   "outputs": [],
   "source": [
    "from statsmodels.tsa.arima_model import ARMA"
   ]
  },
  {
   "cell_type": "code",
   "execution_count": 170,
   "id": "2331aeec",
   "metadata": {},
   "outputs": [],
   "source": [
    "mod = ARMA(real, order = (0,2))\n",
    "res = mod.fit()"
   ]
  },
  {
   "cell_type": "code",
   "execution_count": 171,
   "id": "5c8b8e19",
   "metadata": {},
   "outputs": [
    {
     "name": "stdout",
     "output_type": "stream",
     "text": [
      "                              ARMA Model Results                              \n",
      "==============================================================================\n",
      "Dep. Variable:                 change   No. Observations:                 2063\n",
      "Model:                     ARMA(0, 2)   Log Likelihood                6608.378\n",
      "Method:                       css-mle   S.D. of innovations              0.010\n",
      "Date:                Thu, 26 May 2022   AIC                         -13208.756\n",
      "Time:                        11:07:00   BIC                         -13186.228\n",
      "Sample:                             0   HQIC                        -13200.497\n",
      "                                                                              \n",
      "================================================================================\n",
      "                   coef    std err          z      P>|z|      [0.025      0.975]\n",
      "--------------------------------------------------------------------------------\n",
      "const            1.0002      0.000   4246.599      0.000       1.000       1.001\n",
      "ma.L1.change    -0.0073      0.022     -0.334      0.738      -0.050       0.036\n",
      "ma.L2.change     0.0956      0.022      4.369      0.000       0.053       0.138\n",
      "                                    Roots                                    \n",
      "=============================================================================\n",
      "                  Real          Imaginary           Modulus         Frequency\n",
      "-----------------------------------------------------------------------------\n",
      "MA.1            0.0384           -3.2342j            3.2344           -0.2481\n",
      "MA.2            0.0384           +3.2342j            3.2344            0.2481\n",
      "-----------------------------------------------------------------------------\n"
     ]
    }
   ],
   "source": [
    "print(res.summary())"
   ]
  },
  {
   "cell_type": "code",
   "execution_count": 172,
   "id": "93123629",
   "metadata": {},
   "outputs": [
    {
     "name": "stdout",
     "output_type": "stream",
     "text": [
      "const           1.000182\n",
      "ma.L1.change   -0.007336\n",
      "ma.L2.change    0.095591\n",
      "dtype: float64\n"
     ]
    }
   ],
   "source": [
    "print(res.params)"
   ]
  },
  {
   "cell_type": "code",
   "execution_count": 217,
   "id": "3cf37953",
   "metadata": {},
   "outputs": [
    {
     "data": {
      "image/png": "[encoded data removed]",
      "text/plain": [
       "<Figure size 432x288 with 1 Axes>"
      ]
     },
     "metadata": {
      "needs_background": "light"
     },
     "output_type": "display_data"
    }
   ],
   "source": [
    "res_pred = res.plot_predict(start = len(train), end = len(dm)-1)"
   ]
  },
  {
   "cell_type": "markdown",
   "id": "90503c0b",
   "metadata": {},
   "source": [
    "# 또 다른 방법"
   ]
  },
  {
   "cell_type": "code",
   "execution_count": 6,
   "id": "b81c92c1",
   "metadata": {},
   "outputs": [
    {
     "name": "stderr",
     "output_type": "stream",
     "text": [
      "C:\\Users\\liked\\AppData\\Local\\Temp/ipykernel_19656/1713635818.py:1: FutureWarning: The pandas.datetime class is deprecated and will be removed from pandas in a future version. Import from datetime module instead.\n",
      "  from pandas import datetime\n"
     ]
    }
   ],
   "source": [
    "from pandas import datetime\n",
    "from pandas import read_csv\n",
    "from matplotlib import pyplot\n",
    "from statsmodels.tsa.arima.model import ARIMA\n",
    "from sklearn.metrics import mean_squared_error\n",
    "from math import sqrt"
   ]
  },
  {
   "cell_type": "code",
   "execution_count": 7,
   "id": "80ce8208",
   "metadata": {},
   "outputs": [],
   "source": [
    "def parser(x):\n",
    "    return datetime.strptime(x, \"%Y-%m-%d\")"
   ]
  },
  {
   "cell_type": "code",
   "execution_count": 8,
   "id": "0c5560d7",
   "metadata": {},
   "outputs": [],
   "source": [
    "series = read_csv('kospi.csv', header=0, index_col=0, parse_dates=True, squeeze=True, date_parser=parser)"
   ]
  },
  {
   "cell_type": "code",
   "execution_count": 9,
   "id": "9dacdd10",
   "metadata": {},
   "outputs": [],
   "source": [
    "series.index = series.index.to_period('D')"
   ]
  },
  {
   "cell_type": "code",
   "execution_count": 10,
   "id": "b9fade89",
   "metadata": {},
   "outputs": [],
   "source": [
    "series['change'] = series['Close']/series['Open']"
   ]
  },
  {
   "cell_type": "code",
   "execution_count": 11,
   "id": "60793d7e",
   "metadata": {},
   "outputs": [],
   "source": [
    "series = series['change']"
   ]
  },
  {
   "cell_type": "code",
   "execution_count": 12,
   "id": "fd177767",
   "metadata": {},
   "outputs": [
    {
     "data": {
      "text/plain": [
       "Date\n",
       "2014-01-02    0.977190\n",
       "2014-01-03    0.991048\n",
       "2014-01-06    1.002906\n",
       "2014-01-07    1.006053\n",
       "2014-01-08    0.996673\n",
       "                ...   \n",
       "2022-05-17    1.006476\n",
       "2022-05-18    0.996671\n",
       "2022-05-19    1.006249\n",
       "2022-05-20    1.012860\n",
       "2022-05-23    0.998397\n",
       "Freq: D, Name: change, Length: 2063, dtype: float64"
      ]
     },
     "execution_count": 12,
     "metadata": {},
     "output_type": "execute_result"
    }
   ],
   "source": [
    "series"
   ]
  },
  {
   "cell_type": "code",
   "execution_count": 25,
   "id": "c0cb56bd",
   "metadata": {},
   "outputs": [],
   "source": [
    "size = int(len(series) * 0.8)\n",
    "train, test = X[0:size], X[size:len(X)]"
   ]
  },
  {
   "cell_type": "code",
   "execution_count": 26,
   "id": "264dd395",
   "metadata": {},
   "outputs": [],
   "source": [
    "history = [x for x in train]\n",
    "predictions = list()"
   ]
  },
  {
   "cell_type": "code",
   "execution_count": 27,
   "id": "b06fa1df",
   "metadata": {},
   "outputs": [],
   "source": [
    "import warnings\n",
    "from statsmodels.tools.sm_exceptions import ConvergenceWarning\n",
    "warnings.simplefilter('ignore', ConvergenceWarning)"
   ]
  },
  {
   "cell_type": "code",
   "execution_count": 28,
   "id": "a5f62c67",
   "metadata": {
    "scrolled": false
   },
   "outputs": [
    {
     "name": "stdout",
     "output_type": "stream",
     "text": [
      "predicted=0.998955, expected=0.998397\n"
     ]
    }
   ],
   "source": [
    "for t in range(len(test)):\n",
    "    model = ARIMA(history, order=(0,1,2))\n",
    "    model_fit = model.fit()\n",
    "    output = model_fit.forecast()\n",
    "    yhat = output[0]\n",
    "    predictions.append(yhat)\n",
    "    obs = test[t]\n",
    "    history.append(obs)\n",
    "print('predicted=%f, expected=%f' % (yhat, obs))"
   ]
  },
  {
   "cell_type": "code",
   "execution_count": 29,
   "id": "72d3e114",
   "metadata": {},
   "outputs": [
    {
     "name": "stdout",
     "output_type": "stream",
     "text": [
      "Test RMSE: 0.009\n"
     ]
    }
   ],
   "source": [
    "# evaluate forecasts\n",
    "rmse = sqrt(mean_squared_error(test, predictions))\n",
    "print('Test RMSE: %.3f' % rmse)"
   ]
  },
  {
   "cell_type": "code",
   "execution_count": 30,
   "id": "95a86d43",
   "metadata": {},
   "outputs": [
    {
     "data": {
      "image/png": "[encoded data removed]",
      "text/plain": [
       "<Figure size 432x288 with 1 Axes>"
      ]
     },
     "metadata": {
      "needs_background": "light"
     },
     "output_type": "display_data"
    }
   ],
   "source": [
    "# plot forecasts against actual outcomes\n",
    "pyplot.plot(test)\n",
    "pyplot.plot(predictions, color='red')\n",
    "pyplot.show()"
   ]
  },
  {
   "cell_type": "markdown",
   "id": "de397562",
   "metadata": {},
   "source": [
    "#ㅇ"
   ]
  },
  {
   "cell_type": "code",
   "execution_count": null,
   "id": "2128fcd3",
   "metadata": {},
   "outputs": [],
   "source": []
  },
  {
   "cell_type": "code",
   "execution_count": null,
   "id": "1e7a2da3",
   "metadata": {},
   "outputs": [],
   "source": []
  }
 ],
 "metadata": {
  "kernelspec": {
   "display_name": "Python 3 (ipykernel)",
   "language": "python",
   "name": "python3"
  },
  "language_info": {
   "codemirror_mode": {
    "name": "ipython",
    "version": 3
   },
   "file_extension": ".py",
   "mimetype": "text/x-python",
   "name": "python",
   "nbconvert_exporter": "python",
   "pygments_lexer": "ipython3",
   "version": "3.9.7"
  }
 },
 "nbformat": 4,
 "nbformat_minor": 5
}
